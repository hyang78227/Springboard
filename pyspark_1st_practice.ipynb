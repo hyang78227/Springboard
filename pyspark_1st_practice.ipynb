{
  "cells": [
    {
      "cell_type": "markdown",
      "metadata": {
        "id": "view-in-github",
        "colab_type": "text"
      },
      "source": [
        "<a href=\"https://colab.research.google.com/github/hyang78227/Springboard/blob/main/pyspark_1st_practice.ipynb\" target=\"_parent\"><img src=\"https://colab.research.google.com/assets/colab-badge.svg\" alt=\"Open In Colab\"/></a>"
      ]
    },
    {
      "cell_type": "code",
      "source": [
        "#check to make sure that spark is on the virtual machine\n",
        "!ls"
      ],
      "metadata": {
        "colab": {
          "base_uri": "https://localhost:8080/"
        },
        "id": "CmmwItETKS5G",
        "outputId": "6fc79dee-c622-4dd9-809d-c0153b2573dd"
      },
      "id": "CmmwItETKS5G",
      "execution_count": 38,
      "outputs": [
        {
          "output_type": "stream",
          "name": "stdout",
          "text": [
            " police-stations.csv   spark-3.0.0-bin-hadoop3.2\n",
            "'reported=crime.csv'   spark-3.0.0-bin-hadoop3.2.tgz\n",
            " sample_data\n"
          ]
        }
      ]
    },
    {
      "cell_type": "code",
      "source": [
        "# innstall java\n",
        "!apt-get install openjdk-8-jdk-headless -qq > /dev/null\n",
        "\n",
        "# install spark (change the version number if needed)\n",
        "!wget -q https://archive.apache.org/dist/spark/spark-3.0.0/spark-3.0.0-bin-hadoop3.2.tgz\n",
        "\n",
        "# unzip the spark file to the current folder\n",
        "!tar xf spark-3.0.0-bin-hadoop3.2.tgz\n",
        "\n",
        "!pip install -q findspark\n",
        "!pip install pyspark"
      ],
      "metadata": {
        "colab": {
          "base_uri": "https://localhost:8080/"
        },
        "id": "KsAuynmOCQZx",
        "outputId": "a93f96e5-6915-472f-ce18-82060f151c90"
      },
      "id": "KsAuynmOCQZx",
      "execution_count": 2,
      "outputs": [
        {
          "output_type": "stream",
          "name": "stdout",
          "text": [
            "Looking in indexes: https://pypi.org/simple, https://us-python.pkg.dev/colab-wheels/public/simple/\n",
            "Collecting pyspark\n",
            "  Downloading pyspark-3.4.0.tar.gz (310.8 MB)\n",
            "\u001b[2K     \u001b[90m━━━━━━━━━━━━━━━━━━━━━━━━━━━━━━━━━━━━━━━\u001b[0m \u001b[32m310.8/310.8 MB\u001b[0m \u001b[31m3.3 MB/s\u001b[0m eta \u001b[36m0:00:00\u001b[0m\n",
            "\u001b[?25h  Preparing metadata (setup.py) ... \u001b[?25l\u001b[?25hdone\n",
            "Requirement already satisfied: py4j==0.10.9.7 in /usr/local/lib/python3.10/dist-packages (from pyspark) (0.10.9.7)\n",
            "Building wheels for collected packages: pyspark\n",
            "  Building wheel for pyspark (setup.py) ... \u001b[?25l\u001b[?25hdone\n",
            "  Created wheel for pyspark: filename=pyspark-3.4.0-py2.py3-none-any.whl size=311317130 sha256=fa5ec6eac9f6eb470d91b88577d2749831f29bc79cab529f5f42cdc9128d7210\n",
            "  Stored in directory: /root/.cache/pip/wheels/7b/1b/4b/3363a1d04368e7ff0d408e57ff57966fcdf00583774e761327\n",
            "Successfully built pyspark\n",
            "Installing collected packages: pyspark\n",
            "Successfully installed pyspark-3.4.0\n"
          ]
        }
      ]
    },
    {
      "cell_type": "code",
      "source": [
        "# set your spark folder to your system path environment. \n",
        "import os\n",
        "os.environ[\"JAVA_HOME\"] = \"/usr/lib/jvm/java-8-openjdk-amd64\"\n",
        "os.environ[\"SPARK_HOME\"] = \"/content/spark-3.0.0-bin-hadoop3.2\""
      ],
      "metadata": {
        "id": "dQy5S7DHCN-R"
      },
      "id": "dQy5S7DHCN-R",
      "execution_count": 39,
      "outputs": []
    },
    {
      "cell_type": "code",
      "execution_count": 40,
      "id": "5f2d75c0",
      "metadata": {
        "id": "5f2d75c0"
      },
      "outputs": [],
      "source": [
        "import findspark\n",
        "findspark.init()\n",
        "from pyspark import SparkContext\n",
        "sc=SparkContext.getOrCreate()"
      ]
    },
    {
      "cell_type": "code",
      "execution_count": 7,
      "id": "958eeb9b",
      "metadata": {
        "id": "958eeb9b"
      },
      "outputs": [],
      "source": [
        "from pyspark.sql import SparkSession, Row\n",
        "from pyspark.sql.types import StringType,  IntegerType, ArrayType,StructType,StructField\n"
      ]
    },
    {
      "cell_type": "code",
      "execution_count": 8,
      "id": "c4d1d9fb",
      "metadata": {
        "id": "c4d1d9fb"
      },
      "outputs": [],
      "source": [
        "spark=SparkSession.builder.appName('SparkByExamples.com').getOrCreate()"
      ]
    },
    {
      "cell_type": "code",
      "execution_count": 14,
      "id": "fc28bb10",
      "metadata": {
        "colab": {
          "base_uri": "https://localhost:8080/"
        },
        "id": "fc28bb10",
        "outputId": "6ccf3ad8-2c43-407c-ca7b-a7837b51a267"
      },
      "outputs": [
        {
          "output_type": "stream",
          "name": "stdout",
          "text": [
            "root\n",
            " |-- dept_name: string (nullable = true)\n",
            " |-- dept_id: long (nullable = true)\n",
            "\n",
            "+---------+-------+\n",
            "|dept_name|dept_id|\n",
            "+---------+-------+\n",
            "|Finance  |10     |\n",
            "|Marketing|20     |\n",
            "|Sales    |30     |\n",
            "|IT       |40     |\n",
            "+---------+-------+\n",
            "\n"
          ]
        }
      ],
      "source": [
        "dept = [(\"Finance\",10), \n",
        "        (\"Marketing\",20), \n",
        "        (\"Sales\",30), \n",
        "        (\"IT\",40) \n",
        "      ]\n",
        "deptColumns = [\"dept_name\",\"dept_id\"]\n",
        "deptDF = spark.createDataFrame(data=dept, schema = deptColumns)\n",
        "deptDF.printSchema()\n",
        "deptDF.show(truncate=False)"
      ]
    },
    {
      "cell_type": "code",
      "execution_count": null,
      "id": "8afe63a0",
      "metadata": {
        "id": "8afe63a0",
        "outputId": "7e8075fa-38c3-4b56-a683-74294d5a98d2"
      },
      "outputs": [
        {
          "name": "stdout",
          "output_type": "stream",
          "text": [
            "root\n",
            " |-- dept_name: string (nullable = true)\n",
            " |-- dept_id: integer (nullable = true)\n",
            "\n",
            "+---------+-------+\n",
            "|dept_name|dept_id|\n",
            "+---------+-------+\n",
            "|Finance  |10     |\n",
            "|Marketing|20     |\n",
            "|Sales    |30     |\n",
            "|IT       |40     |\n",
            "+---------+-------+\n",
            "\n"
          ]
        }
      ],
      "source": [
        "deptSchema = StructType([       \n",
        "    StructField('dept_name', StringType(), True),\n",
        "    StructField('dept_id', IntegerType(), True)\n",
        "])\n",
        "\n",
        "deptDF1 = spark.createDataFrame(data=dept, schema = deptSchema)\n",
        "deptDF1.printSchema()\n",
        "deptDF1.show(truncate=False)\n"
      ]
    },
    {
      "cell_type": "markdown",
      "id": "5464bcd5",
      "metadata": {
        "id": "5464bcd5"
      },
      "source": [
        "## 1. Tutorial on RDD"
      ]
    },
    {
      "cell_type": "code",
      "execution_count": null,
      "id": "a76dafa9",
      "metadata": {
        "id": "a76dafa9"
      },
      "outputs": [],
      "source": [
        "###Transformations methods ( .map(), .filter(),   .flatmap())\n",
        "#Actions methods  (.reduce(),   .take(),   .collect(),   .sum())"
      ]
    },
    {
      "cell_type": "code",
      "execution_count": null,
      "id": "04a1919b",
      "metadata": {
        "id": "04a1919b"
      },
      "outputs": [],
      "source": [
        "# Convert list to RDD\n",
        "rdd = spark.sparkContext.parallelize(dept)"
      ]
    },
    {
      "cell_type": "code",
      "execution_count": null,
      "id": "09b17ab8",
      "metadata": {
        "id": "09b17ab8",
        "outputId": "514b1647-59de-4bb8-b22e-bb573bee3588"
      },
      "outputs": [
        {
          "data": {
            "text/plain": [
              "100"
            ]
          },
          "execution_count": 29,
          "metadata": {},
          "output_type": "execute_result"
        }
      ],
      "source": [
        "rdd.map(lambda t: t[1]).sum()"
      ]
    },
    {
      "cell_type": "code",
      "execution_count": null,
      "id": "266c5111",
      "metadata": {
        "id": "266c5111"
      },
      "outputs": [],
      "source": [
        "# Convert list to RDD\n",
        "rdd = spark.sparkContext.parallelize(range(1,10))"
      ]
    },
    {
      "cell_type": "code",
      "execution_count": null,
      "id": "3d30333d",
      "metadata": {
        "id": "3d30333d",
        "outputId": "e81e84f3-b628-456e-abbf-fe128997b33d"
      },
      "outputs": [
        {
          "data": {
            "text/plain": [
              "[1, 2, 3, 4, 5, 6, 7, 8, 9]"
            ]
          },
          "execution_count": 122,
          "metadata": {},
          "output_type": "execute_result"
        }
      ],
      "source": [
        "rdd.collect()"
      ]
    },
    {
      "cell_type": "code",
      "execution_count": null,
      "id": "db7ae9ff",
      "metadata": {
        "id": "db7ae9ff",
        "outputId": "d78bc16d-e415-4ac4-ff66-4d3e37a2c815"
      },
      "outputs": [
        {
          "data": {
            "text/plain": [
              "162"
            ]
          },
          "execution_count": 123,
          "metadata": {},
          "output_type": "execute_result"
        }
      ],
      "source": [
        "from operator import mul\n",
        "rdd.filter(lambda x: x%3==0).reduce(mul)"
      ]
    },
    {
      "cell_type": "code",
      "execution_count": null,
      "id": "bc5f2b75",
      "metadata": {
        "id": "bc5f2b75",
        "outputId": "ad85a409-9f78-43d3-e40d-53f4730a494c"
      },
      "outputs": [
        {
          "data": {
            "text/plain": [
              "162"
            ]
          },
          "execution_count": 126,
          "metadata": {},
          "output_type": "execute_result"
        }
      ],
      "source": [
        "rdd.filter(lambda x: x%3==0).reduce(lambda x,y: x*y)"
      ]
    },
    {
      "cell_type": "markdown",
      "id": "21d4c02a",
      "metadata": {
        "id": "21d4c02a"
      },
      "source": [
        "## 2. Read Files"
      ]
    },
    {
      "cell_type": "code",
      "execution_count": null,
      "id": "9e7df0a4",
      "metadata": {
        "id": "9e7df0a4"
      },
      "outputs": [],
      "source": [
        "# sc.textFile()\n",
        "#return a RDD of strings\n",
        "#can read from many file usinfg whildcards (*)\n",
        "#can read from hdfs\n",
        "#we normally use map right after split/parse the lines\n",
        "\n",
        "#people=sc.textFile('../data/people.txt')\n",
        "#people.map(lambda x: x.split('\\t')).first()"
      ]
    },
    {
      "cell_type": "code",
      "execution_count": null,
      "id": "ca29f284",
      "metadata": {
        "id": "ca29f284"
      },
      "outputs": [],
      "source": []
    },
    {
      "cell_type": "code",
      "execution_count": null,
      "id": "9b7af7e7",
      "metadata": {
        "id": "9b7af7e7"
      },
      "outputs": [],
      "source": []
    },
    {
      "cell_type": "markdown",
      "id": "c51af03a",
      "metadata": {
        "id": "c51af03a"
      },
      "source": [
        "## 3. schema by StrctType "
      ]
    },
    {
      "cell_type": "code",
      "execution_count": null,
      "id": "469ea769",
      "metadata": {
        "id": "469ea769",
        "outputId": "20c868e9-d8a2-4409-831c-b3b007145e04"
      },
      "outputs": [
        {
          "name": "stdout",
          "output_type": "stream",
          "text": [
            "root\n",
            " |-- firstname: string (nullable = true)\n",
            " |-- middlename: string (nullable = true)\n",
            " |-- lastname: string (nullable = true)\n",
            " |-- id: string (nullable = true)\n",
            " |-- gender: string (nullable = true)\n",
            " |-- salary: integer (nullable = true)\n",
            "\n",
            "+---------+----------+--------+-----+------+------+\n",
            "|firstname|middlename|lastname|id   |gender|salary|\n",
            "+---------+----------+--------+-----+------+------+\n",
            "|James    |          |Smith   |36636|M     |3000  |\n",
            "|Michael  |Rose      |        |40288|M     |4000  |\n",
            "|Robert   |          |Williams|42114|M     |4000  |\n",
            "|Maria    |Anne      |Jones   |39192|F     |4000  |\n",
            "|Jen      |Mary      |Brown   |     |F     |-1    |\n",
            "+---------+----------+--------+-----+------+------+\n",
            "\n"
          ]
        }
      ],
      "source": [
        "data1 = [(\"James\",\"\",\"Smith\",\"36636\",\"M\",3000),\n",
        "         (\"Michael\",\"Rose\",\"\",\"40288\",\"M\",4000),\n",
        "         (\"Robert\",\"\",\"Williams\",\"42114\",\"M\",4000),\n",
        "         (\"Maria\",\"Anne\",\"Jones\",\"39192\",\"F\",4000),\n",
        "         (\"Jen\",\"Mary\",\"Brown\",\"\",\"F\",-1)]\n",
        "\n",
        "schema = StructType([ \\\n",
        "    StructField(\"firstname\",StringType(),True), \\\n",
        "    StructField(\"middlename\",StringType(),True), \\\n",
        "    StructField(\"lastname\",StringType(),True), \\\n",
        "    StructField(\"id\", StringType(), True), \\\n",
        "    StructField(\"gender\", StringType(), True), \\\n",
        "    StructField(\"salary\", IntegerType(), True) \\\n",
        "  ])\n",
        " \n",
        "salary_df = spark.createDataFrame(data=data1,schema=schema)\n",
        "salary_df.printSchema()\n",
        "salary_df.show(truncate=False)    "
      ]
    },
    {
      "cell_type": "code",
      "execution_count": null,
      "id": "d8a2e017",
      "metadata": {
        "id": "d8a2e017"
      },
      "outputs": [],
      "source": [
        "rdd1=spark.sparkContext.parallelize(data1)"
      ]
    },
    {
      "cell_type": "code",
      "execution_count": null,
      "id": "61b7b79f",
      "metadata": {
        "id": "61b7b79f",
        "outputId": "2002d58d-7c72-4348-a116-f3693feec5f8"
      },
      "outputs": [
        {
          "data": {
            "text/plain": [
              "('Robert', '', 'Williams', '42114', 'M', 4000)"
            ]
          },
          "execution_count": 42,
          "metadata": {},
          "output_type": "execute_result"
        }
      ],
      "source": [
        "rdd1.filter(lambda t: t[5]).max()"
      ]
    },
    {
      "cell_type": "markdown",
      "id": "4001bfed",
      "metadata": {
        "id": "4001bfed"
      },
      "source": [
        "## 4. Defining Nested StructType object struct"
      ]
    },
    {
      "cell_type": "code",
      "execution_count": null,
      "id": "c5084f69",
      "metadata": {
        "id": "c5084f69",
        "outputId": "128e1ecb-2780-45fc-c1fe-1bc4164c473a"
      },
      "outputs": [
        {
          "name": "stdout",
          "output_type": "stream",
          "text": [
            "root\n",
            " |-- name: struct (nullable = true)\n",
            " |    |-- firstname: string (nullable = true)\n",
            " |    |-- middlename: string (nullable = true)\n",
            " |    |-- lastname: string (nullable = true)\n",
            " |-- id: string (nullable = true)\n",
            " |-- gender: string (nullable = true)\n",
            " |-- salary: integer (nullable = true)\n",
            "\n",
            "+--------------------+-----+------+------+\n",
            "|name                |id   |gender|salary|\n",
            "+--------------------+-----+------+------+\n",
            "|{James, , Smith}    |36636|M     |3100  |\n",
            "|{Michael, Rose, }   |40288|M     |4300  |\n",
            "|{Robert, , Williams}|42114|M     |1400  |\n",
            "|{Maria, Anne, Jones}|39192|F     |5500  |\n",
            "|{Jen, Mary, Brown}  |     |F     |-1    |\n",
            "+--------------------+-----+------+------+\n",
            "\n"
          ]
        }
      ],
      "source": [
        "structureData = [\n",
        "    ((\"James\",\"\",\"Smith\"),\"36636\",\"M\",3100),\n",
        "    ((\"Michael\",\"Rose\",\"\"),\"40288\",\"M\",4300),\n",
        "    ((\"Robert\",\"\",\"Williams\"),\"42114\",\"M\",1400),\n",
        "    ((\"Maria\",\"Anne\",\"Jones\"),\"39192\",\"F\",5500),\n",
        "    ((\"Jen\",\"Mary\",\"Brown\"),\"\",\"F\",-1)\n",
        "  ]\n",
        "structureSchema = StructType([\n",
        "        StructField('name', StructType([\n",
        "             StructField('firstname', StringType(), True),\n",
        "             StructField('middlename', StringType(), True),\n",
        "             StructField('lastname', StringType(), True)\n",
        "             ])),\n",
        "         StructField('id', StringType(), True),\n",
        "         StructField('gender', StringType(), True),\n",
        "         StructField('salary', IntegerType(), True)\n",
        "         ])\n",
        "\n",
        "df2 = spark.createDataFrame(data=structureData,schema=structureSchema)\n",
        "df2.printSchema()\n",
        "df2.show(truncate=False)"
      ]
    },
    {
      "cell_type": "markdown",
      "id": "40f756a6",
      "metadata": {
        "id": "40f756a6"
      },
      "source": [
        "## 5. Adding & Changing struct of the DataFrame"
      ]
    },
    {
      "cell_type": "code",
      "execution_count": null,
      "id": "5cb01e20",
      "metadata": {
        "id": "5cb01e20",
        "outputId": "c7947faf-2bff-4561-8a68-4786db5b0b91"
      },
      "outputs": [
        {
          "name": "stdout",
          "output_type": "stream",
          "text": [
            "root\n",
            " |-- name: struct (nullable = true)\n",
            " |    |-- firstname: string (nullable = true)\n",
            " |    |-- middlename: string (nullable = true)\n",
            " |    |-- lastname: string (nullable = true)\n",
            " |-- OtherInfo: struct (nullable = false)\n",
            " |    |-- identifier: string (nullable = true)\n",
            " |    |-- gender: string (nullable = true)\n",
            " |    |-- salary: integer (nullable = true)\n",
            " |    |-- Salary_Grade: string (nullable = false)\n",
            "\n",
            "+--------------------+------------------------+\n",
            "|name                |OtherInfo               |\n",
            "+--------------------+------------------------+\n",
            "|{James, , Smith}    |{36636, M, 3100, Medium}|\n",
            "|{Michael, Rose, }   |{40288, M, 4300, High}  |\n",
            "|{Robert, , Williams}|{42114, M, 1400, Low}   |\n",
            "|{Maria, Anne, Jones}|{39192, F, 5500, High}  |\n",
            "|{Jen, Mary, Brown}  |{, F, -1, Low}          |\n",
            "+--------------------+------------------------+\n",
            "\n"
          ]
        }
      ],
      "source": [
        "from pyspark.sql.functions import col,struct,when\n",
        "\n",
        "updatedDF = df2.withColumn(\"OtherInfo\", \n",
        "    struct(col(\"id\").alias(\"identifier\"),\n",
        "    col(\"gender\").alias(\"gender\"),\n",
        "    col(\"salary\").alias(\"salary\"),\n",
        "    when(col(\"salary\").cast(IntegerType()) < 2000,\"Low\")\n",
        "      .when(col(\"salary\").cast(IntegerType()) < 4000,\"Medium\")\n",
        "      .otherwise(\"High\").alias(\"Salary_Grade\")\n",
        "  )).drop(\"id\",\"gender\",\"salary\")\n",
        "\n",
        "updatedDF.printSchema()\n",
        "updatedDF.show(truncate=False)"
      ]
    },
    {
      "cell_type": "markdown",
      "id": "5499b432",
      "metadata": {
        "id": "5499b432"
      },
      "source": [
        "## 6. Creating StructType object struct from JSON file"
      ]
    },
    {
      "cell_type": "code",
      "execution_count": null,
      "id": "f8a1a227",
      "metadata": {
        "id": "f8a1a227",
        "outputId": "1e9089f6-c7f7-4c92-ba10-00c49b2b06c9"
      },
      "outputs": [
        {
          "data": {
            "text/plain": [
              "(('James', '', 'Smith'), '36636', 'M', 3100)"
            ]
          },
          "execution_count": 52,
          "metadata": {},
          "output_type": "execute_result"
        }
      ],
      "source": [
        "spark.sparkContext.parallelize(structureData).first()"
      ]
    },
    {
      "cell_type": "code",
      "execution_count": null,
      "id": "82fdf005",
      "metadata": {
        "id": "82fdf005",
        "outputId": "8b2dba88-0440-4cd7-b0d4-f610082cf03d"
      },
      "outputs": [
        {
          "name": "stdout",
          "output_type": "stream",
          "text": [
            "root\n",
            " |-- name: struct (nullable = true)\n",
            " |    |-- firstname: string (nullable = true)\n",
            " |    |-- middlename: string (nullable = true)\n",
            " |    |-- lastname: string (nullable = true)\n",
            " |-- id: string (nullable = true)\n",
            " |-- gender: string (nullable = true)\n",
            " |-- salary: integer (nullable = true)\n",
            "\n",
            "+--------------------+-----+------+------+\n",
            "|name                |id   |gender|salary|\n",
            "+--------------------+-----+------+------+\n",
            "|{James, , Smith}    |36636|M     |3100  |\n",
            "|{Michael, Rose, }   |40288|M     |4300  |\n",
            "|{Robert, , Williams}|42114|M     |1400  |\n",
            "|{Maria, Anne, Jones}|39192|F     |5500  |\n",
            "|{Jen, Mary, Brown}  |     |F     |-1    |\n",
            "+--------------------+-----+------+------+\n",
            "\n"
          ]
        }
      ],
      "source": [
        "import json\n",
        "schemaFromJson = StructType.fromJson(json.loads(structureSchema.json()))\n",
        "df3 = spark.createDataFrame(spark.sparkContext.parallelize(structureData),schemaFromJson)\n",
        "df3.printSchema()\n",
        "df3.show(truncate=False)"
      ]
    },
    {
      "cell_type": "markdown",
      "id": "d1ea9efe",
      "metadata": {
        "id": "d1ea9efe"
      },
      "source": [
        "## 7. Create PySpark ArrayType Column Using StructType"
      ]
    },
    {
      "cell_type": "code",
      "execution_count": null,
      "id": "532400b1",
      "metadata": {
        "id": "532400b1",
        "outputId": "4ba68cfc-11a3-4694-8dc2-e75fdc9fb3c6"
      },
      "outputs": [
        {
          "name": "stdout",
          "output_type": "stream",
          "text": [
            "root\n",
            " |-- name: string (nullable = true)\n",
            " |-- languagesAtSchool: array (nullable = true)\n",
            " |    |-- element: string (containsNull = true)\n",
            " |-- languagesAtWork: array (nullable = true)\n",
            " |    |-- element: string (containsNull = true)\n",
            " |-- currentState: string (nullable = true)\n",
            " |-- previousState: string (nullable = true)\n",
            "\n",
            "+----------------+------------------+---------------+------------+-------------+\n",
            "|            name| languagesAtSchool|languagesAtWork|currentState|previousState|\n",
            "+----------------+------------------+---------------+------------+-------------+\n",
            "|    James,,Smith|[Java, Scala, C++]|  [Spark, Java]|          OH|           CA|\n",
            "|   Michael,Rose,|[Spark, Java, C++]|  [Spark, Java]|          NY|           NJ|\n",
            "|Robert,,Williams|      [CSharp, VB]|[Spark, Python]|          UT|           NV|\n",
            "+----------------+------------------+---------------+------------+-------------+\n",
            "\n"
          ]
        }
      ],
      "source": [
        "data3 = [\n",
        " (\"James,,Smith\",[\"Java\",\"Scala\",\"C++\"],[\"Spark\",\"Java\"],\"OH\",\"CA\"),\n",
        " (\"Michael,Rose,\",[\"Spark\",\"Java\",\"C++\"],[\"Spark\",\"Java\"],\"NY\",\"NJ\"),\n",
        " (\"Robert,,Williams\",[\"CSharp\",\"VB\"],[\"Spark\",\"Python\"],\"UT\",\"NV\")\n",
        "]\n",
        "\n",
        "arrayschema = StructType([ \n",
        "    StructField(\"name\",StringType(),True), \n",
        "    StructField(\"languagesAtSchool\",ArrayType(StringType()),True), \n",
        "    StructField(\"languagesAtWork\",ArrayType(StringType()),True), \n",
        "    StructField(\"currentState\", StringType(), True), \n",
        "    StructField(\"previousState\", StringType(), True)\n",
        "  ])\n",
        "\n",
        "df3 = spark.createDataFrame(data=data3,schema=arrayschema)\n",
        "df3.printSchema()\n",
        "df3.show()\n"
      ]
    },
    {
      "cell_type": "markdown",
      "id": "5c2f8704",
      "metadata": {
        "id": "5c2f8704"
      },
      "source": [
        "## 8. Creating StructType object struct from DDL String"
      ]
    },
    {
      "cell_type": "code",
      "execution_count": null,
      "id": "504494b5",
      "metadata": {
        "id": "504494b5"
      },
      "outputs": [],
      "source": [
        "ddlSchemaStr = \"'fullName' STRUCT<'first': STRING, 'last': STRING,'middle': STRING>,'age' INT,'gender' STRING\"\n",
        "#ddlSchema = StructType.fromDDL(ddlSchemaStr)\n",
        "#ddlSchema.printTreeString()"
      ]
    },
    {
      "cell_type": "markdown",
      "id": "8921b163",
      "metadata": {
        "id": "8921b163"
      },
      "source": [
        "## 9. Checking if a Column Exists in a DataFrame"
      ]
    },
    {
      "cell_type": "code",
      "execution_count": null,
      "id": "1312b883",
      "metadata": {
        "id": "1312b883",
        "outputId": "7ad5fb81-e67e-40ef-aeff-e52ead2735ec"
      },
      "outputs": [
        {
          "name": "stdout",
          "output_type": "stream",
          "text": [
            "1\n",
            "True\n",
            "False\n",
            "False\n",
            "False\n",
            "False\n",
            "False\n"
          ]
        },
        {
          "data": {
            "text/plain": [
              "[None, None, None, None, None, None]"
            ]
          },
          "execution_count": 85,
          "metadata": {},
          "output_type": "execute_result"
        }
      ],
      "source": [
        "print(salary_df.schema.fieldNames().count(\"firstname\"))\n",
        "#print(salary_df.schema.count(StructField(\"firstname\",StringType,true)))\n",
        "[print(salary_df.schema[i]==StructField(\"firstname\",StringType(),True)) for i in range(len(salary_df.schema.fieldNames()))]"
      ]
    },
    {
      "cell_type": "code",
      "execution_count": 9,
      "id": "41d992fc",
      "metadata": {
        "colab": {
          "base_uri": "https://localhost:8080/"
        },
        "id": "41d992fc",
        "outputId": "27198783-eeab-42a0-8817-af19484a5b28"
      },
      "outputs": [
        {
          "output_type": "stream",
          "name": "stdout",
          "text": [
            "--2023-06-06 16:08:24--  https://data.cityofchicago.org/api/views/ijzp-q8t2/rows.csv?accessType=DOWNLOAD\n",
            "Resolving data.cityofchicago.org (data.cityofchicago.org)... 52.206.68.26, 52.206.140.205, 52.206.140.199\n",
            "Connecting to data.cityofchicago.org (data.cityofchicago.org)|52.206.68.26|:443... connected.\n",
            "HTTP request sent, awaiting response... 200 OK\n",
            "Length: unspecified [text/csv]\n",
            "Saving to: ‘rows.csv?accessType=DOWNLOAD’\n",
            "\n",
            "rows.csv?accessType     [    <=>             ]   1.72G  2.85MB/s    in 16m 37s \n",
            "\n",
            "2023-06-06 16:25:01 (1.76 MB/s) - ‘rows.csv?accessType=DOWNLOAD’ saved [1844353855]\n",
            "\n"
          ]
        }
      ],
      "source": [
        "!wget https://data.cityofchicago.org/api/views/ijzp-q8t2/rows.csv?accessType=DOWNLOAD"
      ]
    },
    {
      "cell_type": "markdown",
      "source": [
        "## Import external files and read into a dataframe"
      ],
      "metadata": {
        "id": "3jsDlTrDYwV6"
      },
      "id": "3jsDlTrDYwV6"
    },
    {
      "cell_type": "code",
      "source": [
        "!mv rows.csv\\?accessType\\=DOWNLOAD reported=crime.csv"
      ],
      "metadata": {
        "id": "tCB-2jAkJVHg"
      },
      "id": "tCB-2jAkJVHg",
      "execution_count": 10,
      "outputs": []
    },
    {
      "cell_type": "code",
      "source": [
        "from pyspark.sql.functions import to_timestamp, col,lit\n",
        "\n",
        "\n",
        "#spark.read.csv(\"path\") to read a CSV file into Spark DataFrame \n",
        "rc=spark.read.csv('reported\\=crime.csv',header=True).withColumn('Date',to_timestamp(col('Date'),'MM/dd/yyyy hh:mm:ss a')).filter(col('Date') < lit('2018-11-12'))\n",
        "rc.show(5)"
      ],
      "metadata": {
        "colab": {
          "base_uri": "https://localhost:8080/"
        },
        "id": "oZRfgM_INqyA",
        "outputId": "9a0e6506-6a9c-46fe-93f4-ed3ecd544ba0"
      },
      "id": "oZRfgM_INqyA",
      "execution_count": 11,
      "outputs": [
        {
          "output_type": "stream",
          "name": "stdout",
          "text": [
            "+--------+-----------+-------------------+--------------------+----+------------+--------------------+--------------------+------+--------+----+--------+----+--------------+--------+------------+------------+----+--------------------+------------+-------------+--------------------+\n",
            "|      ID|Case Number|               Date|               Block|IUCR|Primary Type|         Description|Location Description|Arrest|Domestic|Beat|District|Ward|Community Area|FBI Code|X Coordinate|Y Coordinate|Year|          Updated On|    Latitude|    Longitude|            Location|\n",
            "+--------+-----------+-------------------+--------------------+----+------------+--------------------+--------------------+------+--------+----+--------+----+--------------+--------+------------+------------+----+--------------------+------------+-------------+--------------------+\n",
            "|10224738|   HY411648|2015-09-05 13:30:00|     043XX S WOOD ST|0486|     BATTERY|DOMESTIC BATTERY ...|           RESIDENCE| false|    true|0924|     009|  12|            61|     08B|     1165074|     1875917|2015|02/10/2018 03:50:...|41.815117282|-87.669999562|(41.815117282, -8...|\n",
            "|10224739|   HY411615|2015-09-04 11:30:00| 008XX N CENTRAL AVE|0870|       THEFT|      POCKET-PICKING|             CTA BUS| false|   false|1511|     015|  29|            25|      06|     1138875|     1904869|2015|02/10/2018 03:50:...|41.895080471|-87.765400451|(41.895080471, -8...|\n",
            "|11646166|   JC213529|2018-09-01 00:01:00|082XX S INGLESIDE...|0810|       THEFT|           OVER $500|           RESIDENCE| false|    true|0631|     006|   8|            44|      06|        null|        null|2018|04/06/2019 04:04:...|        null|         null|                null|\n",
            "|10224740|   HY411595|2015-09-05 12:45:00|   035XX W BARRY AVE|2023|   NARCOTICS|POSS: HEROIN(BRN/...|            SIDEWALK|  true|   false|1412|     014|  35|            21|      18|     1152037|     1920384|2015|02/10/2018 03:50:...|41.937405765|-87.716649687|(41.937405765, -8...|\n",
            "|10224741|   HY411610|2015-09-05 13:00:00| 0000X N LARAMIE AVE|0560|     ASSAULT|              SIMPLE|           APARTMENT| false|    true|1522|     015|  28|            25|     08A|     1141706|     1900086|2015|02/10/2018 03:50:...|41.881903443|-87.755121152|(41.881903443, -8...|\n",
            "+--------+-----------+-------------------+--------------------+----+------------+--------------------+--------------------+------+--------+----+--------+----+--------------+--------+------------+------------+----+--------------------+------------+-------------+--------------------+\n",
            "only showing top 5 rows\n",
            "\n"
          ]
        }
      ]
    },
    {
      "cell_type": "markdown",
      "source": [
        "## Working with DataFrane"
      ],
      "metadata": {
        "id": "fcx9ljN8Y9h1"
      },
      "id": "fcx9ljN8Y9h1"
    },
    {
      "cell_type": "code",
      "source": [
        "rc.printSchema()"
      ],
      "metadata": {
        "colab": {
          "base_uri": "https://localhost:8080/"
        },
        "id": "zSeyUHZDYscj",
        "outputId": "297f88a8-5432-42f4-8536-72da48424f49"
      },
      "id": "zSeyUHZDYscj",
      "execution_count": 29,
      "outputs": [
        {
          "output_type": "stream",
          "name": "stdout",
          "text": [
            "root\n",
            " |-- ID: string (nullable = true)\n",
            " |-- Case Number: string (nullable = true)\n",
            " |-- Date: timestamp (nullable = true)\n",
            " |-- Block: string (nullable = true)\n",
            " |-- IUCR: string (nullable = true)\n",
            " |-- Primary Type: string (nullable = true)\n",
            " |-- Description: string (nullable = true)\n",
            " |-- Location Description: string (nullable = true)\n",
            " |-- Arrest: string (nullable = true)\n",
            " |-- Domestic: string (nullable = true)\n",
            " |-- Beat: string (nullable = true)\n",
            " |-- District: string (nullable = true)\n",
            " |-- Ward: string (nullable = true)\n",
            " |-- Community Area: string (nullable = true)\n",
            " |-- FBI Code: string (nullable = true)\n",
            " |-- X Coordinate: string (nullable = true)\n",
            " |-- Y Coordinate: string (nullable = true)\n",
            " |-- Year: string (nullable = true)\n",
            " |-- Updated On: string (nullable = true)\n",
            " |-- Latitude: string (nullable = true)\n",
            " |-- Longitude: string (nullable = true)\n",
            " |-- Location: string (nullable = true)\n",
            "\n"
          ]
        }
      ]
    },
    {
      "cell_type": "code",
      "source": [
        "rc.columns\n"
      ],
      "metadata": {
        "colab": {
          "base_uri": "https://localhost:8080/"
        },
        "id": "MQDsC4pNiheo",
        "outputId": "54b14f69-8243-4b37-985f-0b08680c5fb9"
      },
      "id": "MQDsC4pNiheo",
      "execution_count": 30,
      "outputs": [
        {
          "output_type": "execute_result",
          "data": {
            "text/plain": [
              "['ID',\n",
              " 'Case Number',\n",
              " 'Date',\n",
              " 'Block',\n",
              " 'IUCR',\n",
              " 'Primary Type',\n",
              " 'Description',\n",
              " 'Location Description',\n",
              " 'Arrest',\n",
              " 'Domestic',\n",
              " 'Beat',\n",
              " 'District',\n",
              " 'Ward',\n",
              " 'Community Area',\n",
              " 'FBI Code',\n",
              " 'X Coordinate',\n",
              " 'Y Coordinate',\n",
              " 'Year',\n",
              " 'Updated On',\n",
              " 'Latitude',\n",
              " 'Longitude',\n",
              " 'Location']"
            ]
          },
          "metadata": {},
          "execution_count": 30
        }
      ]
    },
    {
      "cell_type": "code",
      "source": [
        "from pyspark.sql.types import StructType, StructField, StringType, IntegerType, DoubleType, BooleanType, TimestampType"
      ],
      "metadata": {
        "id": "jeR3te89NrLe"
      },
      "id": "jeR3te89NrLe",
      "execution_count": 12,
      "outputs": []
    },
    {
      "cell_type": "code",
      "source": [
        "labels=[('ID', StringType()),\n",
        "  ('Case Number', StringType()),\n",
        "  ('Date', TimestampType()),\n",
        "  ('Block', StringType()),\n",
        "  ('IUCR', StringType()),\n",
        "  ('Primary Type', StringType()),\n",
        "  ('Description', StringType()),\n",
        " ('Location Description', StringType()),\n",
        " ('Arrest', StringType()),\n",
        " ('Domestic', StringType()),\n",
        " ('Beat', StringType()),\n",
        " ('District', StringType()),\n",
        " ('Ward', StringType()),\n",
        " ('Community Area',StringType()),\n",
        " ('FBI Code',StringType()),\n",
        " ('X Coordinate',StringType()),\n",
        " ('Y Coordinate',StringType()),\n",
        " ('Year',StringType()),\n",
        " ('Updated On',TimestampType()),\n",
        " ('Latitude',StringType()),\n",
        " ('Longitude',StringType()),\n",
        " ('Location',StringType())]"
      ],
      "metadata": {
        "id": "39q4L_jHioUn"
      },
      "id": "39q4L_jHioUn",
      "execution_count": 13,
      "outputs": []
    },
    {
      "cell_type": "code",
      "source": [
        "myschema=StructType([StructField(x[0],x[1],True) for x in labels])"
      ],
      "metadata": {
        "id": "ORHJI7snNrUW"
      },
      "id": "ORHJI7snNrUW",
      "execution_count": 14,
      "outputs": []
    },
    {
      "cell_type": "code",
      "source": [
        "myschema"
      ],
      "metadata": {
        "colab": {
          "base_uri": "https://localhost:8080/"
        },
        "id": "uo_h6G-9NrZF",
        "outputId": "8db53e77-035d-469e-ee34-e76518f6c027"
      },
      "id": "uo_h6G-9NrZF",
      "execution_count": 15,
      "outputs": [
        {
          "output_type": "execute_result",
          "data": {
            "text/plain": [
              "StructType(List(StructField(ID,StringType,true),StructField(Case Number,StringType,true),StructField(Date,TimestampType,true),StructField(Block,StringType,true),StructField(IUCR,StringType,true),StructField(Primary Type,StringType,true),StructField(Description,StringType,true),StructField(Location Description,StringType,true),StructField(Arrest,StringType,true),StructField(Domestic,StringType,true),StructField(Beat,StringType,true),StructField(District,StringType,true),StructField(Ward,StringType,true),StructField(Community Area,StringType,true),StructField(FBI Code,StringType,true),StructField(X Coordinate,StringType,true),StructField(Y Coordinate,StringType,true),StructField(Year,StringType,true),StructField(Updated On,TimestampType,true),StructField(Latitude,StringType,true),StructField(Longitude,StringType,true),StructField(Location,StringType,true)))"
            ]
          },
          "metadata": {},
          "execution_count": 15
        }
      ]
    },
    {
      "cell_type": "code",
      "source": [
        "rc1=spark.read.csv('reported\\=crime.csv',schema=myschema)\n",
        "rc1.printSchema()"
      ],
      "metadata": {
        "colab": {
          "base_uri": "https://localhost:8080/"
        },
        "id": "TTJ_GhU3Nrc7",
        "outputId": "fe9805ed-f950-4b18-8ba0-cad2e6d6b383"
      },
      "id": "TTJ_GhU3Nrc7",
      "execution_count": 15,
      "outputs": [
        {
          "output_type": "stream",
          "name": "stdout",
          "text": [
            "root\n",
            " |-- ID: string (nullable = true)\n",
            " |-- Case Number: string (nullable = true)\n",
            " |-- Date: timestamp (nullable = true)\n",
            " |-- Block: string (nullable = true)\n",
            " |-- IUCR: string (nullable = true)\n",
            " |-- Primary Type: string (nullable = true)\n",
            " |-- Description: string (nullable = true)\n",
            " |-- Location Description: string (nullable = true)\n",
            " |-- Arrest: string (nullable = true)\n",
            " |-- Domestic: string (nullable = true)\n",
            " |-- Beat: string (nullable = true)\n",
            " |-- District: string (nullable = true)\n",
            " |-- Ward: string (nullable = true)\n",
            " |-- Community Area: string (nullable = true)\n",
            " |-- FBI Code: string (nullable = true)\n",
            " |-- X Coordinate: string (nullable = true)\n",
            " |-- Y Coordinate: string (nullable = true)\n",
            " |-- Year: string (nullable = true)\n",
            " |-- Updated On: timestamp (nullable = true)\n",
            " |-- Latitude: string (nullable = true)\n",
            " |-- Longitude: string (nullable = true)\n",
            " |-- Location: string (nullable = true)\n",
            "\n"
          ]
        }
      ]
    },
    {
      "cell_type": "code",
      "source": [
        "rc1.show(5)"
      ],
      "metadata": {
        "colab": {
          "base_uri": "https://localhost:8080/"
        },
        "id": "CniuD4ghNrh1",
        "outputId": "227466ac-752c-48fc-ae3c-3c097bd5b81f"
      },
      "id": "CniuD4ghNrh1",
      "execution_count": 49,
      "outputs": [
        {
          "output_type": "stream",
          "name": "stdout",
          "text": [
            "+--------+-----------+----+--------------------+----+------------+--------------------+--------------------+------+--------+----+--------+----+--------------+--------+------------+------------+----+----------+------------+-------------+--------------------+\n",
            "|      ID|Case Number|Date|               Block|IUCR|Primary Type|         Description|Location Description|Arrest|Domestic|Beat|District|Ward|Community Area|FBI Code|X Coordinate|Y Coordinate|Year|Updated On|    Latitude|    Longitude|            Location|\n",
            "+--------+-----------+----+--------------------+----+------------+--------------------+--------------------+------+--------+----+--------+----+--------------+--------+------------+------------+----+----------+------------+-------------+--------------------+\n",
            "|      ID|Case Number|null|               Block|IUCR|Primary Type|         Description|Location Description|Arrest|Domestic|Beat|District|Ward|Community Area|FBI Code|X Coordinate|Y Coordinate|Year|      null|    Latitude|    Longitude|            Location|\n",
            "|10224738|   HY411648|null|     043XX S WOOD ST|0486|     BATTERY|DOMESTIC BATTERY ...|           RESIDENCE| false|    true|0924|     009|  12|            61|     08B|     1165074|     1875917|2015|      null|41.815117282|-87.669999562|(41.815117282, -8...|\n",
            "|10224739|   HY411615|null| 008XX N CENTRAL AVE|0870|       THEFT|      POCKET-PICKING|             CTA BUS| false|   false|1511|     015|  29|            25|      06|     1138875|     1904869|2015|      null|41.895080471|-87.765400451|(41.895080471, -8...|\n",
            "|11646166|   JC213529|null|082XX S INGLESIDE...|0810|       THEFT|           OVER $500|           RESIDENCE| false|    true|0631|     006|   8|            44|      06|        null|        null|2018|      null|        null|         null|                null|\n",
            "|10224740|   HY411595|null|   035XX W BARRY AVE|2023|   NARCOTICS|POSS: HEROIN(BRN/...|            SIDEWALK|  true|   false|1412|     014|  35|            21|      18|     1152037|     1920384|2015|      null|41.937405765|-87.716649687|(41.937405765, -8...|\n",
            "+--------+-----------+----+--------------------+----+------------+--------------------+--------------------+------+--------+----+--------+----+--------------+--------+------------+------------+----+----------+------------+-------------+--------------------+\n",
            "only showing top 5 rows\n",
            "\n"
          ]
        }
      ]
    },
    {
      "cell_type": "code",
      "source": [
        "rc.select('IUCR').show(5)\n",
        "rc.select(rc.IUCR).show(5)\n",
        "rc.select(col('IUCR')).show(5)"
      ],
      "metadata": {
        "colab": {
          "base_uri": "https://localhost:8080/"
        },
        "id": "2r5u7xwWufvd",
        "outputId": "bf879d1a-3ae1-42b2-f53b-cc64198deebb"
      },
      "id": "2r5u7xwWufvd",
      "execution_count": 16,
      "outputs": [
        {
          "output_type": "stream",
          "name": "stdout",
          "text": [
            "+----+\n",
            "|IUCR|\n",
            "+----+\n",
            "|0486|\n",
            "|0870|\n",
            "|0810|\n",
            "|2023|\n",
            "|0560|\n",
            "+----+\n",
            "only showing top 5 rows\n",
            "\n",
            "+----+\n",
            "|IUCR|\n",
            "+----+\n",
            "|0486|\n",
            "|0870|\n",
            "|0810|\n",
            "|2023|\n",
            "|0560|\n",
            "+----+\n",
            "only showing top 5 rows\n",
            "\n",
            "+----+\n",
            "|IUCR|\n",
            "+----+\n",
            "|0486|\n",
            "|0870|\n",
            "|0810|\n",
            "|2023|\n",
            "|0560|\n",
            "+----+\n",
            "only showing top 5 rows\n",
            "\n"
          ]
        }
      ]
    },
    {
      "cell_type": "code",
      "source": [
        "rc.select('IUCR','Arrest').show(5)"
      ],
      "metadata": {
        "colab": {
          "base_uri": "https://localhost:8080/"
        },
        "id": "S59mM6cZuf6H",
        "outputId": "e91d7b48-ecbd-4c11-b1f1-3506800664d4"
      },
      "id": "S59mM6cZuf6H",
      "execution_count": 57,
      "outputs": [
        {
          "output_type": "stream",
          "name": "stdout",
          "text": [
            "+----+------+\n",
            "|IUCR|Arrest|\n",
            "+----+------+\n",
            "|0486| false|\n",
            "|0870| false|\n",
            "|0810| false|\n",
            "|2023|  true|\n",
            "|0560| false|\n",
            "+----+------+\n",
            "only showing top 5 rows\n",
            "\n"
          ]
        }
      ]
    },
    {
      "cell_type": "code",
      "source": [
        "from pyspark.sql.functions import lit"
      ],
      "metadata": {
        "id": "LcihCA5Muf99"
      },
      "id": "LcihCA5Muf99",
      "execution_count": 58,
      "outputs": []
    },
    {
      "cell_type": "code",
      "source": [
        "rc.withColumn('One',lit(1)).show(5)"
      ],
      "metadata": {
        "colab": {
          "base_uri": "https://localhost:8080/"
        },
        "id": "utbFrJq9ugA9",
        "outputId": "df87caba-6724-40f1-9014-7d41887acd16"
      },
      "id": "utbFrJq9ugA9",
      "execution_count": 59,
      "outputs": [
        {
          "output_type": "stream",
          "name": "stdout",
          "text": [
            "+--------+-----------+-------------------+--------------------+----+------------+--------------------+--------------------+------+--------+----+--------+----+--------------+--------+------------+------------+----+--------------------+------------+-------------+--------------------+---+\n",
            "|      ID|Case Number|               Date|               Block|IUCR|Primary Type|         Description|Location Description|Arrest|Domestic|Beat|District|Ward|Community Area|FBI Code|X Coordinate|Y Coordinate|Year|          Updated On|    Latitude|    Longitude|            Location|One|\n",
            "+--------+-----------+-------------------+--------------------+----+------------+--------------------+--------------------+------+--------+----+--------+----+--------------+--------+------------+------------+----+--------------------+------------+-------------+--------------------+---+\n",
            "|10224738|   HY411648|2015-09-05 13:30:00|     043XX S WOOD ST|0486|     BATTERY|DOMESTIC BATTERY ...|           RESIDENCE| false|    true|0924|     009|  12|            61|     08B|     1165074|     1875917|2015|02/10/2018 03:50:...|41.815117282|-87.669999562|(41.815117282, -8...|  1|\n",
            "|10224739|   HY411615|2015-09-04 11:30:00| 008XX N CENTRAL AVE|0870|       THEFT|      POCKET-PICKING|             CTA BUS| false|   false|1511|     015|  29|            25|      06|     1138875|     1904869|2015|02/10/2018 03:50:...|41.895080471|-87.765400451|(41.895080471, -8...|  1|\n",
            "|11646166|   JC213529|2018-09-01 00:01:00|082XX S INGLESIDE...|0810|       THEFT|           OVER $500|           RESIDENCE| false|    true|0631|     006|   8|            44|      06|        null|        null|2018|04/06/2019 04:04:...|        null|         null|                null|  1|\n",
            "|10224740|   HY411595|2015-09-05 12:45:00|   035XX W BARRY AVE|2023|   NARCOTICS|POSS: HEROIN(BRN/...|            SIDEWALK|  true|   false|1412|     014|  35|            21|      18|     1152037|     1920384|2015|02/10/2018 03:50:...|41.937405765|-87.716649687|(41.937405765, -8...|  1|\n",
            "|10224741|   HY411610|2015-09-05 13:00:00| 0000X N LARAMIE AVE|0560|     ASSAULT|              SIMPLE|           APARTMENT| false|    true|1522|     015|  28|            25|     08A|     1141706|     1900086|2015|02/10/2018 03:50:...|41.881903443|-87.755121152|(41.881903443, -8...|  1|\n",
            "+--------+-----------+-------------------+--------------------+----+------------+--------------------+--------------------+------+--------+----+--------+----+--------------+--------+------------+------------+----+--------------------+------------+-------------+--------------------+---+\n",
            "only showing top 5 rows\n",
            "\n"
          ]
        }
      ]
    },
    {
      "cell_type": "code",
      "source": [
        "rc=rc.drop('IUCR')\n",
        "rc.show(5)"
      ],
      "metadata": {
        "colab": {
          "base_uri": "https://localhost:8080/"
        },
        "id": "OaFyoa2JugGB",
        "outputId": "979aecea-3cdf-482d-f07c-40c0d88d76d0"
      },
      "id": "OaFyoa2JugGB",
      "execution_count": 70,
      "outputs": [
        {
          "output_type": "stream",
          "name": "stdout",
          "text": [
            "+--------+-----------+-------------------+--------------------+------------+--------------------+--------------------+------+--------+----+--------+----+--------------+--------+------------+------------+----+--------------------+------------+-------------+--------------------+\n",
            "|      ID|Case Number|               Date|               Block|Primary Type|         Description|Location Description|Arrest|Domestic|Beat|District|Ward|Community Area|FBI Code|X Coordinate|Y Coordinate|Year|          Updated On|    Latitude|    Longitude|            Location|\n",
            "+--------+-----------+-------------------+--------------------+------------+--------------------+--------------------+------+--------+----+--------+----+--------------+--------+------------+------------+----+--------------------+------------+-------------+--------------------+\n",
            "|10224738|   HY411648|2015-09-05 13:30:00|     043XX S WOOD ST|     BATTERY|DOMESTIC BATTERY ...|           RESIDENCE| false|    true|0924|     009|  12|            61|     08B|     1165074|     1875917|2015|02/10/2018 03:50:...|41.815117282|-87.669999562|(41.815117282, -8...|\n",
            "|10224739|   HY411615|2015-09-04 11:30:00| 008XX N CENTRAL AVE|       THEFT|      POCKET-PICKING|             CTA BUS| false|   false|1511|     015|  29|            25|      06|     1138875|     1904869|2015|02/10/2018 03:50:...|41.895080471|-87.765400451|(41.895080471, -8...|\n",
            "|11646166|   JC213529|2018-09-01 00:01:00|082XX S INGLESIDE...|       THEFT|           OVER $500|           RESIDENCE| false|    true|0631|     006|   8|            44|      06|        null|        null|2018|04/06/2019 04:04:...|        null|         null|                null|\n",
            "|10224740|   HY411595|2015-09-05 12:45:00|   035XX W BARRY AVE|   NARCOTICS|POSS: HEROIN(BRN/...|            SIDEWALK|  true|   false|1412|     014|  35|            21|      18|     1152037|     1920384|2015|02/10/2018 03:50:...|41.937405765|-87.716649687|(41.937405765, -8...|\n",
            "|10224741|   HY411610|2015-09-05 13:00:00| 0000X N LARAMIE AVE|     ASSAULT|              SIMPLE|           APARTMENT| false|    true|1522|     015|  28|            25|     08A|     1141706|     1900086|2015|02/10/2018 03:50:...|41.881903443|-87.755121152|(41.881903443, -8...|\n",
            "+--------+-----------+-------------------+--------------------+------------+--------------------+--------------------+------+--------+----+--------+----+--------------+--------+------------+------------+----+--------------------+------------+-------------+--------------------+\n",
            "only showing top 5 rows\n",
            "\n"
          ]
        }
      ]
    },
    {
      "cell_type": "code",
      "source": [
        "one_day=spark.read.csv('reported\\=crime.csv',header=True).withColumn('Date',to_timestamp(col('Date'),'MM/dd/yyyy hh:mm:ss a')).filter(col('Date') == lit('2018-11-12'))\n",
        "one_day.show()\n",
        "one_day=one_day.drop('IUCR')"
      ],
      "metadata": {
        "colab": {
          "base_uri": "https://localhost:8080/"
        },
        "id": "6ue6J9RfugLK",
        "outputId": "e77f5587-99e0-4de9-fd06-d5ae4b246ec2"
      },
      "id": "6ue6J9RfugLK",
      "execution_count": 68,
      "outputs": [
        {
          "output_type": "stream",
          "name": "stdout",
          "text": [
            "+--------+-----------+-------------------+-------------------+----+------------------+--------------------+--------------------+------+--------+----+--------+----+--------------+--------+------------+------------+----+--------------------+------------+-------------+--------------------+\n",
            "|      ID|Case Number|               Date|              Block|IUCR|      Primary Type|         Description|Location Description|Arrest|Domestic|Beat|District|Ward|Community Area|FBI Code|X Coordinate|Y Coordinate|Year|          Updated On|    Latitude|    Longitude|            Location|\n",
            "+--------+-----------+-------------------+-------------------+----+------------------+--------------------+--------------------+------+--------+----+--------+----+--------------+--------+------------+------------+----+--------------------+------------+-------------+--------------------+\n",
            "|11505149|   JB513151|2018-11-12 00:00:00| 003XX S WHIPPLE ST|0810|             THEFT|           OVER $500|              STREET| false|   false|1124|     011|  28|            27|      06|     1156099|     1898319|2018|11/19/2018 04:22:...|41.876776356|-87.702317641|(41.876776356, -8...|\n",
            "|11516594|   JB528186|2018-11-12 00:00:00|049XX S PRAIRIE AVE|2826|     OTHER OFFENSE|HARASSMENT BY ELE...|               OTHER| false|   false|0224|     002|   3|            38|      26|     1178879|     1872259|2018|11/28/2018 04:14:...|41.804775828|-87.619472488|(41.804775828, -8...|\n",
            "|11540042|   JB559262|2018-11-12 00:00:00|010XX N DEARBORN ST|1140|DECEPTIVE PRACTICE|        EMBEZZLEMENT|   CONVENIENCE STORE|  true|   false|1824|     018|   2|             8|      12|     1175747|     1907348|2018|03/16/2019 04:01:...|41.901133376|-87.629904979|(41.901133376, -8...|\n",
            "+--------+-----------+-------------------+-------------------+----+------------------+--------------------+--------------------+------+--------+----+--------+----+--------------+--------+------------+------------+----+--------------------+------------+-------------+--------------------+\n",
            "\n"
          ]
        }
      ]
    },
    {
      "cell_type": "code",
      "source": [
        "one_day.count()"
      ],
      "metadata": {
        "colab": {
          "base_uri": "https://localhost:8080/"
        },
        "id": "s5G5crxF2eew",
        "outputId": "6e701c47-94f6-42b7-80bf-2730241c5333"
      },
      "id": "s5G5crxF2eew",
      "execution_count": 66,
      "outputs": [
        {
          "output_type": "execute_result",
          "data": {
            "text/plain": [
              "3"
            ]
          },
          "metadata": {},
          "execution_count": 66
        }
      ]
    },
    {
      "cell_type": "code",
      "source": [
        "rc.union(one_day).orderBy('Date',ascending=False).show()"
      ],
      "metadata": {
        "colab": {
          "base_uri": "https://localhost:8080/"
        },
        "id": "o7w0nz5I2eoq",
        "outputId": "3bf01e11-012f-4b52-cbeb-53db5bdb0a23"
      },
      "id": "o7w0nz5I2eoq",
      "execution_count": 71,
      "outputs": [
        {
          "output_type": "stream",
          "name": "stdout",
          "text": [
            "+--------+-----------+-------------------+--------------------+------------------+--------------------+--------------------+------+--------+----+--------+----+--------------+--------+------------+------------+----+--------------------+------------+-------------+--------------------+\n",
            "|      ID|Case Number|               Date|               Block|      Primary Type|         Description|Location Description|Arrest|Domestic|Beat|District|Ward|Community Area|FBI Code|X Coordinate|Y Coordinate|Year|          Updated On|    Latitude|    Longitude|            Location|\n",
            "+--------+-----------+-------------------+--------------------+------------------+--------------------+--------------------+------+--------+----+--------+----+--------------+--------+------------+------------+----+--------------------+------------+-------------+--------------------+\n",
            "|11505149|   JB513151|2018-11-12 00:00:00|  003XX S WHIPPLE ST|             THEFT|           OVER $500|              STREET| false|   false|1124|     011|  28|            27|      06|     1156099|     1898319|2018|11/19/2018 04:22:...|41.876776356|-87.702317641|(41.876776356, -8...|\n",
            "|11516594|   JB528186|2018-11-12 00:00:00| 049XX S PRAIRIE AVE|     OTHER OFFENSE|HARASSMENT BY ELE...|               OTHER| false|   false|0224|     002|   3|            38|      26|     1178879|     1872259|2018|11/28/2018 04:14:...|41.804775828|-87.619472488|(41.804775828, -8...|\n",
            "|11540042|   JB559262|2018-11-12 00:00:00| 010XX N DEARBORN ST|DECEPTIVE PRACTICE|        EMBEZZLEMENT|   CONVENIENCE STORE|  true|   false|1824|     018|   2|             8|      12|     1175747|     1907348|2018|03/16/2019 04:01:...|41.901133376|-87.629904979|(41.901133376, -8...|\n",
            "|11504777|   JB512602|2018-11-11 23:50:00|012XX N MAPLEWOOD...|           BATTERY|DOMESTIC BATTERY ...|           APARTMENT| false|   false|1423|     014|  26|            24|     08B|     1159177|     1908214|2018|11/18/2018 04:11:...|41.903866454|-87.690744072|(41.903866454, -8...|\n",
            "|11504767|   JB512570|2018-11-11 23:50:00|064XX S DR MARTIN...|           ROBBERY|STRONGARM - NO WE...|           APARTMENT| false|   false|0312|     003|  20|            69|      03|     1180025|     1862499|2018|11/18/2018 04:11:...|41.777967289|-87.615568353|(41.777967289, -8...|\n",
            "|11504756|   JB512567|2018-11-11 23:35:00|     016XX W 47TH ST|           BATTERY|              SIMPLE|            SIDEWALK|  true|   false|0924|     009|  15|            61|     08B|     1166215|     1873545|2018|11/18/2018 04:11:...|41.808584003|-87.665881774|(41.808584003, -8...|\n",
            "|11504768|   JB512579|2018-11-11 23:31:00|061XX S EBERHART AVE|           BATTERY|DOMESTIC BATTERY ...|           APARTMENT| false|   false|0313|     003|  20|            42|     08B|     1180634|     1864504|2018|11/18/2018 04:11:...|41.783455232|-87.613274211|(41.783455232, -8...|\n",
            "|11504771|   JB512603|2018-11-11 23:30:00|038XX N SHEFFIELD...|     OTHER OFFENSE|HARASSMENT BY ELE...|           RESIDENCE| false|   false|1923|     019|  46|             6|      26|     1168915|     1925750|2018|11/18/2018 04:11:...|41.951780377|-87.654464178|(41.951780377, -8...|\n",
            "|11505270|   JB513235|2018-11-11 23:30:00|    044XX S STATE ST|   CRIMINAL DAMAGE|          TO VEHICLE|RESIDENTIAL YARD ...| false|    true|0215|     002|   3|            38|      14|     1177013|     1875665|2018|11/18/2018 04:11:...|41.814164525|-87.626213323|(41.814164525, -8...|\n",
            "|11505079|   JB513091|2018-11-11 23:30:00|015XX W GLENLAKE AVE|          BURGLARY|      UNLAWFUL ENTRY|           RESIDENCE| false|   false|2433|     024|  48|            77|      05|     1165038|     1940605|2018|11/18/2018 04:11:...|41.992626426|-87.668292041|(41.992626426, -8...|\n",
            "|11504967|   JB512947|2018-11-11 23:30:00|009XX W GARFIELD ...|             THEFT|      $500 AND UNDER|              STREET| false|   false|0712|     007|  16|            68|      06|     1171062|     1868229|2018|11/18/2018 04:11:...|41.793891658|-87.648259484|(41.793891658, -8...|\n",
            "|11504698|   JB512563|2018-11-11 23:30:00|  087XX S BURLEY AVE|           BATTERY|DOMESTIC BATTERY ...|           APARTMENT| false|    true|0424|     004|  10|            46|     08B|     1199184|     1847735|2018|11/18/2018 04:11:...|41.736993626|-87.545827764|(41.736993626, -8...|\n",
            "|11504697|   JB512562|2018-11-11 23:13:00|  085XX S YATES BLVD|           ASSAULT| AGGRAVATED: HANDGUN|              STREET| false|   false|0423|     004|   7|            46|     04A|     1193651|     1848836|2018|11/18/2018 04:11:...| 41.74015201|-87.566062614|(41.74015201, -87...|\n",
            "|11504713|   JB512572|2018-11-11 23:01:00|    082XX S STATE ST| WEAPONS VIOLATION|UNLAWFUL POSS OF ...|              STREET|  true|   false|0631|     006|   6|            44|      15|     1177729|     1850226|2018|11/18/2018 04:11:...| 41.74434108|-87.624356319|(41.74434108, -87...|\n",
            "|11504711|   JB512549|2018-11-11 23:00:00| 021XX N MELVINA AVE|             ARSON|             BY FIRE|               ALLEY| false|   false|2512|     025|  36|            19|      09|     1134738|     1913238|2018|12/02/2018 04:09:...|41.918120194|-87.780396698|(41.918120194, -8...|\n",
            "|11505186|   JB513264|2018-11-11 23:00:00| 020XX S KOSTNER AVE|             THEFT|           OVER $500|        CTA PLATFORM| false|   false|1012|     010|  24|            29|      06|     1147374|     1889823|2018|11/18/2018 04:11:...|41.853633845|-87.734570978|(41.853633845, -8...|\n",
            "|11505532|   JB513578|2018-11-11 23:00:00|019XX N NORMANDY AVE|             THEFT|           OVER $500|              STREET| false|   false|2513|     025|  29|            25|      06|     1131439|     1912211|2018|11/18/2018 04:11:...|41.915359705|-87.792541448|(41.915359705, -8...|\n",
            "|11504793|   JB512669|2018-11-11 23:00:00|029XX N NEW ENGLA...|   CRIMINAL DAMAGE|          TO VEHICLE|              STREET| false|   false|2511|     025|  36|            18|      14|     1129910|     1918872|2018|11/18/2018 04:11:...|41.933664638|-87.798006181|(41.933664638, -8...|\n",
            "|11505072|   JB513125|2018-11-11 23:00:00|020XX S MICHIGAN AVE|             THEFT|       FROM BUILDING|           RESIDENCE| false|   false|0131|     001|   3|            33|      06|     1177530|     1890539|2018|11/18/2018 04:11:...|41.854968236|-87.623866311|(41.854968236, -8...|\n",
            "|11505007|   JB512962|2018-11-11 23:00:00|   047XX N MALDEN ST|   CRIMINAL DAMAGE|          TO VEHICLE|              STREET| false|   false|1913|     019|  46|             3|      14|     1166613|     1931589|2018|11/18/2018 04:11:...|41.967852547|-87.662758305|(41.967852547, -8...|\n",
            "+--------+-----------+-------------------+--------------------+------------------+--------------------+--------------------+------+--------+----+--------+----+--------------+--------+------------+------------+----+--------------------+------------+-------------+--------------------+\n",
            "only showing top 20 rows\n",
            "\n"
          ]
        }
      ]
    },
    {
      "cell_type": "code",
      "source": [
        "rc.groupBy('Primary Type').count().orderBy('count', ascending=False).show(5)"
      ],
      "metadata": {
        "colab": {
          "base_uri": "https://localhost:8080/"
        },
        "id": "zRxTKIYC2eus",
        "outputId": "b08cc228-f0eb-442a-9c41-36837305bf4b"
      },
      "id": "zRxTKIYC2eus",
      "execution_count": 72,
      "outputs": [
        {
          "output_type": "stream",
          "name": "stdout",
          "text": [
            "+---------------+-------+\n",
            "|   Primary Type|  count|\n",
            "+---------------+-------+\n",
            "|          THEFT|1418652|\n",
            "|        BATTERY|1232418|\n",
            "|CRIMINAL DAMAGE| 771584|\n",
            "|      NARCOTICS| 711799|\n",
            "|  OTHER OFFENSE| 418948|\n",
            "+---------------+-------+\n",
            "only showing top 5 rows\n",
            "\n"
          ]
        }
      ]
    },
    {
      "cell_type": "code",
      "source": [
        "rc.cache()\n",
        "rc.count()"
      ],
      "metadata": {
        "colab": {
          "base_uri": "https://localhost:8080/"
        },
        "id": "-yCd88I30yiA",
        "outputId": "25c65f74-cf7c-45d0-e2c2-f52921260db1"
      },
      "id": "-yCd88I30yiA",
      "execution_count": 23,
      "outputs": [
        {
          "output_type": "execute_result",
          "data": {
            "text/plain": [
              "6756825"
            ]
          },
          "metadata": {},
          "execution_count": 23
        }
      ]
    },
    {
      "cell_type": "code",
      "source": [
        "rc.select(col('Primary Type')).distinct().count()"
      ],
      "metadata": {
        "colab": {
          "base_uri": "https://localhost:8080/"
        },
        "id": "wQ-T7tpo096T",
        "outputId": "7cff21c5-d71e-4b1b-dfa9-71b337449484"
      },
      "id": "wQ-T7tpo096T",
      "execution_count": 24,
      "outputs": [
        {
          "output_type": "execute_result",
          "data": {
            "text/plain": [
              "36"
            ]
          },
          "metadata": {},
          "execution_count": 24
        }
      ]
    },
    {
      "cell_type": "code",
      "source": [
        "rc.select(col('Primary Type')).distinct().orderBy(col('Primary Type')).show(36,truncate=False)"
      ],
      "metadata": {
        "colab": {
          "base_uri": "https://localhost:8080/"
        },
        "id": "xL5HBTw7kISe",
        "outputId": "fe86448a-1a11-42e8-81e0-5c7109d2d39f"
      },
      "id": "xL5HBTw7kISe",
      "execution_count": 25,
      "outputs": [
        {
          "output_type": "stream",
          "name": "stdout",
          "text": [
            "+---------------------------------+\n",
            "|Primary Type                     |\n",
            "+---------------------------------+\n",
            "|ARSON                            |\n",
            "|ASSAULT                          |\n",
            "|BATTERY                          |\n",
            "|BURGLARY                         |\n",
            "|CONCEALED CARRY LICENSE VIOLATION|\n",
            "|CRIM SEXUAL ASSAULT              |\n",
            "|CRIMINAL DAMAGE                  |\n",
            "|CRIMINAL SEXUAL ASSAULT          |\n",
            "|CRIMINAL TRESPASS                |\n",
            "|DECEPTIVE PRACTICE               |\n",
            "|DOMESTIC VIOLENCE                |\n",
            "|GAMBLING                         |\n",
            "|HOMICIDE                         |\n",
            "|HUMAN TRAFFICKING                |\n",
            "|INTERFERENCE WITH PUBLIC OFFICER |\n",
            "|INTIMIDATION                     |\n",
            "|KIDNAPPING                       |\n",
            "|LIQUOR LAW VIOLATION             |\n",
            "|MOTOR VEHICLE THEFT              |\n",
            "|NARCOTICS                        |\n",
            "|NON - CRIMINAL                   |\n",
            "|NON-CRIMINAL                     |\n",
            "|NON-CRIMINAL (SUBJECT SPECIFIED) |\n",
            "|OBSCENITY                        |\n",
            "|OFFENSE INVOLVING CHILDREN       |\n",
            "|OTHER NARCOTIC VIOLATION         |\n",
            "|OTHER OFFENSE                    |\n",
            "|PROSTITUTION                     |\n",
            "|PUBLIC INDECENCY                 |\n",
            "|PUBLIC PEACE VIOLATION           |\n",
            "|RITUALISM                        |\n",
            "|ROBBERY                          |\n",
            "|SEX OFFENSE                      |\n",
            "|STALKING                         |\n",
            "|THEFT                            |\n",
            "|WEAPONS VIOLATION                |\n",
            "+---------------------------------+\n",
            "\n"
          ]
        }
      ]
    },
    {
      "cell_type": "code",
      "source": [
        "rc.filter((col('Primary Type')=='NON - CRIMINAL')|(col('Primary Type')=='NON-CRIMINAL')|(col('Primary Type')=='NON-CRIMINAL (SUBJECT SPECIFIED)')).groupBy('Description').count().orderBy('count',ascending=False).show(1)\n"
      ],
      "metadata": {
        "colab": {
          "base_uri": "https://localhost:8080/"
        },
        "id": "aEcSW5eQkhCN",
        "outputId": "84fcf819-e9e3-418a-fa80-054b22436f8c"
      },
      "id": "aEcSW5eQkhCN",
      "execution_count": 30,
      "outputs": [
        {
          "output_type": "stream",
          "name": "stdout",
          "text": [
            "+-------------+-----+\n",
            "|  Description|count|\n",
            "+-------------+-----+\n",
            "|LOST PASSPORT|  107|\n",
            "+-------------+-----+\n",
            "only showing top 1 row\n",
            "\n"
          ]
        }
      ]
    },
    {
      "cell_type": "code",
      "source": [
        "rc.filter(col('Primary Type').contains(\"CRIMINAL\")).groupBy('Primary Type').count().orderBy('count',ascending=False).show(1)"
      ],
      "metadata": {
        "colab": {
          "base_uri": "https://localhost:8080/"
        },
        "id": "ofUmPB02810z",
        "outputId": "6217671d-664d-4775-ab42-a9cd9e95ab86"
      },
      "id": "ofUmPB02810z",
      "execution_count": 77,
      "outputs": [
        {
          "output_type": "stream",
          "name": "stdout",
          "text": [
            "+---------------+------+\n",
            "|   Primary Type| count|\n",
            "+---------------+------+\n",
            "|CRIMINAL DAMAGE|771584|\n",
            "+---------------+------+\n",
            "only showing top 1 row\n",
            "\n"
          ]
        }
      ]
    },
    {
      "cell_type": "code",
      "source": [
        "from pyspark.sql.functions import dayofweek,date_format\n",
        "rc.select(col('Date'), dayofweek(col('Date')),date_format(col('Date'),'E')).groupBy(date_format(col('Date'),'E')).count().orderBy('count',ascending=False).show(5)\n",
        "#rc.columns"
      ],
      "metadata": {
        "colab": {
          "base_uri": "https://localhost:8080/"
        },
        "id": "xxgLM38I82Av",
        "outputId": "1b8695f4-d46c-4435-c674-14b44304af1b"
      },
      "id": "xxgLM38I82Av",
      "execution_count": 35,
      "outputs": [
        {
          "output_type": "stream",
          "name": "stdout",
          "text": [
            "+--------------------+-------+\n",
            "|date_format(Date, E)|  count|\n",
            "+--------------------+-------+\n",
            "|                 Fri|1017387|\n",
            "|                 Wed| 974284|\n",
            "|                 Tue| 968441|\n",
            "|                 Sat| 965512|\n",
            "|                 Thu| 965023|\n",
            "+--------------------+-------+\n",
            "only showing top 5 rows\n",
            "\n"
          ]
        }
      ]
    },
    {
      "cell_type": "code",
      "source": [
        "!wget -O police-stations.csv https://data.cityofchicago.org/api/views/z8bn-74gv/rows.csv?accessType=DOWNLOAD"
      ],
      "metadata": {
        "colab": {
          "base_uri": "https://localhost:8080/"
        },
        "id": "liY3x6lvBkMh",
        "outputId": "7acceca0-0ea1-42ed-b73c-5a71f8ef3a5b"
      },
      "id": "liY3x6lvBkMh",
      "execution_count": 48,
      "outputs": [
        {
          "output_type": "stream",
          "name": "stdout",
          "text": [
            "--2023-06-06 18:55:10--  https://data.cityofchicago.org/api/views/z8bn-74gv/rows.csv?accessType=DOWNLOAD\n",
            "Resolving data.cityofchicago.org (data.cityofchicago.org)... 52.206.68.26, 52.206.140.199, 52.206.140.205\n",
            "Connecting to data.cityofchicago.org (data.cityofchicago.org)|52.206.68.26|:443... connected.\n",
            "HTTP request sent, awaiting response... 200 OK\n",
            "Length: unspecified [text/csv]\n",
            "Saving to: ‘police-stations.csv’\n",
            "\n",
            "\rpolice-stations.csv     [<=>                 ]       0  --.-KB/s               \rpolice-stations.csv     [ <=>                ]   5.57K  --.-KB/s    in 0s      \n",
            "\n",
            "2023-06-06 18:55:11 (617 MB/s) - ‘police-stations.csv’ saved [5699]\n",
            "\n"
          ]
        }
      ]
    },
    {
      "cell_type": "code",
      "source": [
        "psrdd=sc.textFile('police-stations.csv')"
      ],
      "metadata": {
        "id": "YKwizRuJBkc9"
      },
      "id": "YKwizRuJBkc9",
      "execution_count": 49,
      "outputs": []
    },
    {
      "cell_type": "code",
      "source": [
        "psrdd.first()"
      ],
      "metadata": {
        "colab": {
          "base_uri": "https://localhost:8080/",
          "height": 35
        },
        "id": "nmTMXGixBkkg",
        "outputId": "28799ce2-ca1b-45b8-e1bb-7309992896bc"
      },
      "id": "nmTMXGixBkkg",
      "execution_count": 50,
      "outputs": [
        {
          "output_type": "execute_result",
          "data": {
            "text/plain": [
              "'DISTRICT,DISTRICT NAME,ADDRESS,CITY,STATE,ZIP,WEBSITE,PHONE,FAX,TTY,X COORDINATE,Y COORDINATE,LATITUDE,LONGITUDE,LOCATION'"
            ],
            "application/vnd.google.colaboratory.intrinsic+json": {
              "type": "string"
            }
          },
          "metadata": {},
          "execution_count": 50
        }
      ]
    },
    {
      "cell_type": "code",
      "source": [
        "ps_header=psrdd.first()\n",
        "ps_rest=psrdd.filter(lambda line: line!= ps_header)"
      ],
      "metadata": {
        "id": "jY-U-DKKBkoq"
      },
      "id": "jY-U-DKKBkoq",
      "execution_count": 51,
      "outputs": []
    },
    {
      "cell_type": "code",
      "source": [
        "ps_rest.first()"
      ],
      "metadata": {
        "colab": {
          "base_uri": "https://localhost:8080/",
          "height": 35
        },
        "id": "pOvqThQbBksd",
        "outputId": "34e65d18-cddf-4fd6-ae4e-b1002584ffa3"
      },
      "id": "pOvqThQbBksd",
      "execution_count": 54,
      "outputs": [
        {
          "output_type": "execute_result",
          "data": {
            "text/plain": [
              "'Headquarters,Headquarters,3510 S Michigan Ave,Chicago,IL,60653,http://home.chicagopolice.org,,,,1177731.401,1881697.404,41.83070169,-87.62339535,\"(41.8307016873, -87.6233953459)\"'"
            ],
            "application/vnd.google.colaboratory.intrinsic+json": {
              "type": "string"
            }
          },
          "metadata": {},
          "execution_count": 54
        }
      ]
    },
    {
      "cell_type": "markdown",
      "source": [
        "### How many police stations are there?"
      ],
      "metadata": {
        "id": "sqPtvz1iExlA"
      },
      "id": "sqPtvz1iExlA"
    },
    {
      "cell_type": "code",
      "source": [
        "#ps_rest.map(lambda line: line.split(',')).collect()\n",
        "ps_rest.map(lambda line: line.split(',')).count()"
      ],
      "metadata": {
        "colab": {
          "base_uri": "https://localhost:8080/"
        },
        "id": "w7OOByTbBkwb",
        "outputId": "1efa3155-e860-4f6c-def1-5d5f1db7800b"
      },
      "id": "w7OOByTbBkwb",
      "execution_count": 56,
      "outputs": [
        {
          "output_type": "execute_result",
          "data": {
            "text/plain": [
              "24"
            ]
          },
          "metadata": {},
          "execution_count": 56
        }
      ]
    },
    {
      "cell_type": "markdown",
      "source": [
        "## Display District ID, Name, Address and Zip for Station ID=7"
      ],
      "metadata": {
        "id": "aInicNdfFnbt"
      },
      "id": "aInicNdfFnbt"
    },
    {
      "cell_type": "code",
      "source": [
        "(ps_rest.filter(lambda line: line.split(',')[0]=='7').\n",
        "  map(lambda line: [line.split(',')[0],\n",
        "                    line.split(',')[1], \n",
        "                    line.split(',')[2],\n",
        "                    line.split(',')[5]]).collect())"
      ],
      "metadata": {
        "colab": {
          "base_uri": "https://localhost:8080/"
        },
        "id": "mhpOGxzDFuIR",
        "outputId": "bd6e3d60-5b75-4ebb-f340-86025910fa07"
      },
      "id": "mhpOGxzDFuIR",
      "execution_count": 59,
      "outputs": [
        {
          "output_type": "execute_result",
          "data": {
            "text/plain": [
              "[['7', 'Englewood', '1438 W 63rd St', '60636']]"
            ]
          },
          "metadata": {},
          "execution_count": 59
        }
      ]
    },
    {
      "cell_type": "markdown",
      "source": [
        "## Display District ID, Name, Address and Zip for Station ID=10 or 11"
      ],
      "metadata": {
        "id": "lI7z7awhGm2a"
      },
      "id": "lI7z7awhGm2a"
    },
    {
      "cell_type": "code",
      "source": [
        "(ps_rest.filter(lambda line: line.split(',')[0] in ['10','11']).\n",
        "  map(lambda line: [line.split(',')[0],\n",
        "                    line.split(',')[1], \n",
        "                    line.split(',')[2],\n",
        "                    line.split(',')[5]]).collect())"
      ],
      "metadata": {
        "colab": {
          "base_uri": "https://localhost:8080/"
        },
        "id": "Pz_Qup2-GnVo",
        "outputId": "15ef366d-d6e4-4a44-cb6e-e79997d29bc3"
      },
      "id": "Pz_Qup2-GnVo",
      "execution_count": 61,
      "outputs": [
        {
          "output_type": "execute_result",
          "data": {
            "text/plain": [
              "[['10', 'Ogden', '3315 W Ogden Ave', '60623'],\n",
              " ['11', 'Harrison', '3151 W Harrison St', '60612']]"
            ]
          },
          "metadata": {},
          "execution_count": 61
        }
      ]
    }
  ],
  "metadata": {
    "kernelspec": {
      "display_name": "Python 3 (ipykernel)",
      "language": "python",
      "name": "python3"
    },
    "language_info": {
      "codemirror_mode": {
        "name": "ipython",
        "version": 3
      },
      "file_extension": ".py",
      "mimetype": "text/x-python",
      "name": "python",
      "nbconvert_exporter": "python",
      "pygments_lexer": "ipython3",
      "version": "3.9.16"
    },
    "colab": {
      "provenance": [],
      "include_colab_link": true
    }
  },
  "nbformat": 4,
  "nbformat_minor": 5
}