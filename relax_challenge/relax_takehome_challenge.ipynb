{
 "cells": [
  {
   "cell_type": "code",
   "execution_count": 322,
   "id": "bc18d087",
   "metadata": {},
   "outputs": [],
   "source": [
    "import pandas as pd\n",
    "import numpy as np\n",
    "import matplotlib.pyplot as plt\n",
    "import datetime as dt\n",
    "from statsmodels.tsa.seasonal import seasonal_decompose\n",
    "import seaborn as sns\n",
    "\n",
    "from sklearn.preprocessing import LabelEncoder\n",
    "from sklearn.model_selection import StratifiedShuffleSplit, train_test_split\n",
    "from sklearn import metrics\n",
    "from sklearn.metrics import r2_score, accuracy_score\n",
    "from sklearn.metrics import f1_score, make_scorer\n",
    "from sklearn.preprocessing import StandardScaler, PowerTransformer\n",
    "\n",
    "from sklearn.model_selection import cross_validate\n",
    "from sklearn.model_selection import cross_val_score\n",
    "from sklearn.model_selection import RepeatedStratifiedKFold\n",
    "from sklearn.model_selection import RepeatedStratifiedKFold\n",
    "from sklearn.model_selection import GridSearchCV, RandomizedSearchCV\n",
    "\n",
    "%matplotlib inline"
   ]
  },
  {
   "cell_type": "code",
   "execution_count": 323,
   "id": "023e92af",
   "metadata": {},
   "outputs": [],
   "source": [
    "from sklearn.linear_model import LogisticRegression\n",
    "from sklearn.metrics import confusion_matrix\n",
    "from sklearn.metrics import ConfusionMatrixDisplay, classification_report"
   ]
  },
  {
   "cell_type": "markdown",
   "id": "434e6f1a",
   "metadata": {},
   "source": [
    "## Import,Clean Data & Feature Engineering"
   ]
  },
  {
   "cell_type": "code",
   "execution_count": 324,
   "id": "92949f5f",
   "metadata": {},
   "outputs": [],
   "source": [
    "user_df=pd.read_csv('takehome_users.csv',encoding = \"ISO-8859-1\")"
   ]
  },
  {
   "cell_type": "code",
   "execution_count": 325,
   "id": "b2915460",
   "metadata": {},
   "outputs": [],
   "source": [
    "user_df['creation_time']=pd.to_datetime(user_df['creation_time'])"
   ]
  },
  {
   "cell_type": "code",
   "execution_count": 326,
   "id": "c2d2fc21",
   "metadata": {},
   "outputs": [],
   "source": [
    "user_df['last_session_creation_time']=(pd.to_timedelta(user_df['last_session_creation_time'], \n",
    "                                                       unit='s')+ dt.datetime(1970, 1,1)).dt.date\n",
    "                                       \n",
    "user_df['last_session_creation_time']=pd.to_datetime(user_df['last_session_creation_time'])"
   ]
  },
  {
   "cell_type": "code",
   "execution_count": 334,
   "id": "1a845c54",
   "metadata": {},
   "outputs": [],
   "source": [
    "user_eng_df=pd.read_csv('takehome_user_engagement.csv')  #,encoding = \"ISO-8859-1\")\n",
    "user_eng_df.time_stamp=pd.to_datetime(user_eng_df['time_stamp'])\n",
    "#user_eng_df.drop('time_stamp',axis=1,inplace=True)"
   ]
  },
  {
   "cell_type": "code",
   "execution_count": 335,
   "id": "1b28b2b8",
   "metadata": {},
   "outputs": [],
   "source": [
    "ids=list(user_eng_df.user_id.value_counts().sort_index().index)"
   ]
  },
  {
   "cell_type": "code",
   "execution_count": 337,
   "id": "89f82ae0",
   "metadata": {},
   "outputs": [],
   "source": [
    "adopted=pd.DataFrame({'user_id':ids,'Adopted':np.zeros_like(ids)})\n",
    "for id in ids:\n",
    "    df=user_eng_df.loc[user_eng_df['user_id']==id,:]\n",
    "    df=df.sort_values(by='time_stamp')\n",
    "    \n",
    "    if df.shape[0]>2:\n",
    "        first=0\n",
    "        date_1st=df['time_stamp'].iloc[0]\n",
    "        df['days'] = (df['time_stamp']-date_1st).dt.days.astype(int)\n",
    "        df['cumsum_visits'] = df['visited'].cumsum()\n",
    "        df=df.loc[df.cumsum_visits%3==0,:]\n",
    "\n",
    "        first=df['days'].iloc[0]\n",
    "        df['days']=df.days.diff()\n",
    "        df['days'].fillna(first,inplace=True)\n",
    "\n",
    "        if (df.days<=7).sum()>0:\n",
    "            adopted.loc[adopted['user_id']==id,'Adopted']=1\n",
    "#(user_eng_df.last_trip_date.max()-challenge_df.last_trip_date).dt.days"
   ]
  },
  {
   "cell_type": "code",
   "execution_count": 338,
   "id": "f354fc38",
   "metadata": {},
   "outputs": [
    {
     "data": {
      "text/plain": [
       "0    7482\n",
       "1    1341\n",
       "Name: Adopted, dtype: int64"
      ]
     },
     "execution_count": 338,
     "metadata": {},
     "output_type": "execute_result"
    }
   ],
   "source": [
    "adopted.Adopted.value_counts()"
   ]
  },
  {
   "cell_type": "code",
   "execution_count": 441,
   "id": "21a8344d",
   "metadata": {},
   "outputs": [
    {
     "data": {
      "text/plain": [
       "0    0.848011\n",
       "1    0.151989\n",
       "Name: Adopted, dtype: float64"
      ]
     },
     "execution_count": 441,
     "metadata": {},
     "output_type": "execute_result"
    }
   ],
   "source": [
    "adopted.Adopted.value_counts()/8823"
   ]
  },
  {
   "cell_type": "code",
   "execution_count": 341,
   "id": "081266b9",
   "metadata": {},
   "outputs": [
    {
     "data": {
      "text/html": [
       "<div>\n",
       "<style scoped>\n",
       "    .dataframe tbody tr th:only-of-type {\n",
       "        vertical-align: middle;\n",
       "    }\n",
       "\n",
       "    .dataframe tbody tr th {\n",
       "        vertical-align: top;\n",
       "    }\n",
       "\n",
       "    .dataframe thead th {\n",
       "        text-align: right;\n",
       "    }\n",
       "</style>\n",
       "<table border=\"1\" class=\"dataframe\">\n",
       "  <thead>\n",
       "    <tr style=\"text-align: right;\">\n",
       "      <th></th>\n",
       "      <th>user_id</th>\n",
       "      <th>Adopted</th>\n",
       "    </tr>\n",
       "  </thead>\n",
       "  <tbody>\n",
       "    <tr>\n",
       "      <th>0</th>\n",
       "      <td>1</td>\n",
       "      <td>0</td>\n",
       "    </tr>\n",
       "    <tr>\n",
       "      <th>1</th>\n",
       "      <td>2</td>\n",
       "      <td>0</td>\n",
       "    </tr>\n",
       "    <tr>\n",
       "      <th>2</th>\n",
       "      <td>3</td>\n",
       "      <td>0</td>\n",
       "    </tr>\n",
       "    <tr>\n",
       "      <th>3</th>\n",
       "      <td>4</td>\n",
       "      <td>0</td>\n",
       "    </tr>\n",
       "    <tr>\n",
       "      <th>4</th>\n",
       "      <td>5</td>\n",
       "      <td>0</td>\n",
       "    </tr>\n",
       "  </tbody>\n",
       "</table>\n",
       "</div>"
      ],
      "text/plain": [
       "   user_id  Adopted\n",
       "0        1        0\n",
       "1        2        0\n",
       "2        3        0\n",
       "3        4        0\n",
       "4        5        0"
      ]
     },
     "execution_count": 341,
     "metadata": {},
     "output_type": "execute_result"
    }
   ],
   "source": [
    "adopted.head()"
   ]
  },
  {
   "cell_type": "code",
   "execution_count": 342,
   "id": "3e774f5a",
   "metadata": {},
   "outputs": [
    {
     "data": {
      "text/html": [
       "<div>\n",
       "<style scoped>\n",
       "    .dataframe tbody tr th:only-of-type {\n",
       "        vertical-align: middle;\n",
       "    }\n",
       "\n",
       "    .dataframe tbody tr th {\n",
       "        vertical-align: top;\n",
       "    }\n",
       "\n",
       "    .dataframe thead th {\n",
       "        text-align: right;\n",
       "    }\n",
       "</style>\n",
       "<table border=\"1\" class=\"dataframe\">\n",
       "  <thead>\n",
       "    <tr style=\"text-align: right;\">\n",
       "      <th></th>\n",
       "      <th>object_id</th>\n",
       "      <th>creation_time</th>\n",
       "      <th>name</th>\n",
       "      <th>email</th>\n",
       "      <th>creation_source</th>\n",
       "      <th>last_session_creation_time</th>\n",
       "      <th>opted_in_to_mailing_list</th>\n",
       "      <th>enabled_for_marketing_drip</th>\n",
       "      <th>org_id</th>\n",
       "      <th>invited_by_user_id</th>\n",
       "    </tr>\n",
       "  </thead>\n",
       "  <tbody>\n",
       "    <tr>\n",
       "      <th>0</th>\n",
       "      <td>1</td>\n",
       "      <td>2014-04-22 03:53:30</td>\n",
       "      <td>Clausen August</td>\n",
       "      <td>AugustCClausen@yahoo.com</td>\n",
       "      <td>GUEST_INVITE</td>\n",
       "      <td>2014-04-22</td>\n",
       "      <td>1</td>\n",
       "      <td>0</td>\n",
       "      <td>11</td>\n",
       "      <td>10803.0</td>\n",
       "    </tr>\n",
       "    <tr>\n",
       "      <th>1</th>\n",
       "      <td>2</td>\n",
       "      <td>2013-11-15 03:45:04</td>\n",
       "      <td>Poole Matthew</td>\n",
       "      <td>MatthewPoole@gustr.com</td>\n",
       "      <td>ORG_INVITE</td>\n",
       "      <td>2014-03-31</td>\n",
       "      <td>0</td>\n",
       "      <td>0</td>\n",
       "      <td>1</td>\n",
       "      <td>316.0</td>\n",
       "    </tr>\n",
       "    <tr>\n",
       "      <th>2</th>\n",
       "      <td>3</td>\n",
       "      <td>2013-03-19 23:14:52</td>\n",
       "      <td>Bottrill Mitchell</td>\n",
       "      <td>MitchellBottrill@gustr.com</td>\n",
       "      <td>ORG_INVITE</td>\n",
       "      <td>2013-03-19</td>\n",
       "      <td>0</td>\n",
       "      <td>0</td>\n",
       "      <td>94</td>\n",
       "      <td>1525.0</td>\n",
       "    </tr>\n",
       "    <tr>\n",
       "      <th>3</th>\n",
       "      <td>4</td>\n",
       "      <td>2013-05-21 08:09:28</td>\n",
       "      <td>Clausen Nicklas</td>\n",
       "      <td>NicklasSClausen@yahoo.com</td>\n",
       "      <td>GUEST_INVITE</td>\n",
       "      <td>2013-05-22</td>\n",
       "      <td>0</td>\n",
       "      <td>0</td>\n",
       "      <td>1</td>\n",
       "      <td>5151.0</td>\n",
       "    </tr>\n",
       "    <tr>\n",
       "      <th>4</th>\n",
       "      <td>5</td>\n",
       "      <td>2013-01-17 10:14:20</td>\n",
       "      <td>Raw Grace</td>\n",
       "      <td>GraceRaw@yahoo.com</td>\n",
       "      <td>GUEST_INVITE</td>\n",
       "      <td>2013-01-22</td>\n",
       "      <td>0</td>\n",
       "      <td>0</td>\n",
       "      <td>193</td>\n",
       "      <td>5240.0</td>\n",
       "    </tr>\n",
       "  </tbody>\n",
       "</table>\n",
       "</div>"
      ],
      "text/plain": [
       "   object_id       creation_time               name  \\\n",
       "0          1 2014-04-22 03:53:30     Clausen August   \n",
       "1          2 2013-11-15 03:45:04      Poole Matthew   \n",
       "2          3 2013-03-19 23:14:52  Bottrill Mitchell   \n",
       "3          4 2013-05-21 08:09:28    Clausen Nicklas   \n",
       "4          5 2013-01-17 10:14:20          Raw Grace   \n",
       "\n",
       "                        email creation_source last_session_creation_time  \\\n",
       "0    AugustCClausen@yahoo.com    GUEST_INVITE                 2014-04-22   \n",
       "1      MatthewPoole@gustr.com      ORG_INVITE                 2014-03-31   \n",
       "2  MitchellBottrill@gustr.com      ORG_INVITE                 2013-03-19   \n",
       "3   NicklasSClausen@yahoo.com    GUEST_INVITE                 2013-05-22   \n",
       "4          GraceRaw@yahoo.com    GUEST_INVITE                 2013-01-22   \n",
       "\n",
       "   opted_in_to_mailing_list  enabled_for_marketing_drip  org_id  \\\n",
       "0                         1                           0      11   \n",
       "1                         0                           0       1   \n",
       "2                         0                           0      94   \n",
       "3                         0                           0       1   \n",
       "4                         0                           0     193   \n",
       "\n",
       "   invited_by_user_id  \n",
       "0             10803.0  \n",
       "1               316.0  \n",
       "2              1525.0  \n",
       "3              5151.0  \n",
       "4              5240.0  "
      ]
     },
     "execution_count": 342,
     "metadata": {},
     "output_type": "execute_result"
    }
   ],
   "source": [
    "user_df.head()"
   ]
  },
  {
   "cell_type": "code",
   "execution_count": 359,
   "id": "a930fc8d",
   "metadata": {},
   "outputs": [],
   "source": [
    "cols=['object_id','name', 'email', 'org_id','invited_by_user_id']\n",
    "combined_df=adopted.merge(user_df,how='left',right_on='object_id',left_on='user_id')\n",
    "combined_df.drop(columns=cols,axis=1,inplace=True)"
   ]
  },
  {
   "cell_type": "code",
   "execution_count": 364,
   "id": "d79c4ba7",
   "metadata": {},
   "outputs": [
    {
     "data": {
      "text/plain": [
       "user_id                       0\n",
       "Adopted                       0\n",
       "creation_time                 0\n",
       "creation_source               0\n",
       "last_session_creation_time    0\n",
       "opted_in_to_mailing_list      0\n",
       "enabled_for_marketing_drip    0\n",
       "dtype: int64"
      ]
     },
     "execution_count": 364,
     "metadata": {},
     "output_type": "execute_result"
    }
   ],
   "source": [
    "#check on missing values\n",
    "combined_df.isna().sum()"
   ]
  },
  {
   "cell_type": "code",
   "execution_count": 366,
   "id": "4f995908",
   "metadata": {},
   "outputs": [
    {
     "data": {
      "text/plain": [
       "user_id                       8823\n",
       "Adopted                          2\n",
       "creation_time                 8821\n",
       "creation_source                  5\n",
       "last_session_creation_time     736\n",
       "opted_in_to_mailing_list         2\n",
       "enabled_for_marketing_drip       2\n",
       "dtype: int64"
      ]
     },
     "execution_count": 366,
     "metadata": {},
     "output_type": "execute_result"
    }
   ],
   "source": [
    "combined_df.nunique()"
   ]
  },
  {
   "cell_type": "code",
   "execution_count": 365,
   "id": "315e023a",
   "metadata": {},
   "outputs": [
    {
     "name": "stdout",
     "output_type": "stream",
     "text": [
      "<class 'pandas.core.frame.DataFrame'>\n",
      "Int64Index: 8823 entries, 0 to 8822\n",
      "Data columns (total 7 columns):\n",
      " #   Column                      Non-Null Count  Dtype         \n",
      "---  ------                      --------------  -----         \n",
      " 0   user_id                     8823 non-null   int64         \n",
      " 1   Adopted                     8823 non-null   int32         \n",
      " 2   creation_time               8823 non-null   datetime64[ns]\n",
      " 3   creation_source             8823 non-null   object        \n",
      " 4   last_session_creation_time  8823 non-null   datetime64[ns]\n",
      " 5   opted_in_to_mailing_list    8823 non-null   int64         \n",
      " 6   enabled_for_marketing_drip  8823 non-null   int64         \n",
      "dtypes: datetime64[ns](2), int32(1), int64(3), object(1)\n",
      "memory usage: 517.0+ KB\n"
     ]
    }
   ],
   "source": [
    "combined_df.info()"
   ]
  },
  {
   "cell_type": "code",
   "execution_count": 367,
   "id": "f23bc6d3",
   "metadata": {},
   "outputs": [
    {
     "data": {
      "text/plain": [
       "0"
      ]
     },
     "execution_count": 367,
     "metadata": {},
     "output_type": "execute_result"
    }
   ],
   "source": [
    "#check on duplicated rows\n",
    "combined_df.duplicated().sum()"
   ]
  },
  {
   "cell_type": "code",
   "execution_count": 371,
   "id": "06011e3c",
   "metadata": {},
   "outputs": [],
   "source": [
    "current_date=combined_df.last_session_creation_time.max()"
   ]
  },
  {
   "cell_type": "code",
   "execution_count": 376,
   "id": "2cdc69d8",
   "metadata": {},
   "outputs": [],
   "source": [
    "#Define 'age' (how long ago did the user signup)\n",
    "#Define 'last_login' (how long ago was the user's last login) \n",
    "\n",
    "combined_df['age']=(current_date-combined_df.creation_time).dt.days\n",
    "combined_df['last_login']=(current_date-combined_df.last_session_creation_time).dt.days\n",
    "combined_df.drop(['creation_time','last_session_creation_time'],axis=1,inplace=True)"
   ]
  },
  {
   "cell_type": "code",
   "execution_count": 377,
   "id": "7415cee0",
   "metadata": {},
   "outputs": [
    {
     "data": {
      "text/html": [
       "<div>\n",
       "<style scoped>\n",
       "    .dataframe tbody tr th:only-of-type {\n",
       "        vertical-align: middle;\n",
       "    }\n",
       "\n",
       "    .dataframe tbody tr th {\n",
       "        vertical-align: top;\n",
       "    }\n",
       "\n",
       "    .dataframe thead th {\n",
       "        text-align: right;\n",
       "    }\n",
       "</style>\n",
       "<table border=\"1\" class=\"dataframe\">\n",
       "  <thead>\n",
       "    <tr style=\"text-align: right;\">\n",
       "      <th></th>\n",
       "      <th>user_id</th>\n",
       "      <th>Adopted</th>\n",
       "      <th>creation_source</th>\n",
       "      <th>opted_in_to_mailing_list</th>\n",
       "      <th>enabled_for_marketing_drip</th>\n",
       "      <th>age</th>\n",
       "      <th>last_login</th>\n",
       "    </tr>\n",
       "  </thead>\n",
       "  <tbody>\n",
       "    <tr>\n",
       "      <th>0</th>\n",
       "      <td>1</td>\n",
       "      <td>0</td>\n",
       "      <td>GUEST_INVITE</td>\n",
       "      <td>1</td>\n",
       "      <td>0</td>\n",
       "      <td>44</td>\n",
       "      <td>45</td>\n",
       "    </tr>\n",
       "    <tr>\n",
       "      <th>1</th>\n",
       "      <td>2</td>\n",
       "      <td>0</td>\n",
       "      <td>ORG_INVITE</td>\n",
       "      <td>0</td>\n",
       "      <td>0</td>\n",
       "      <td>202</td>\n",
       "      <td>67</td>\n",
       "    </tr>\n",
       "    <tr>\n",
       "      <th>2</th>\n",
       "      <td>3</td>\n",
       "      <td>0</td>\n",
       "      <td>ORG_INVITE</td>\n",
       "      <td>0</td>\n",
       "      <td>0</td>\n",
       "      <td>443</td>\n",
       "      <td>444</td>\n",
       "    </tr>\n",
       "    <tr>\n",
       "      <th>3</th>\n",
       "      <td>4</td>\n",
       "      <td>0</td>\n",
       "      <td>GUEST_INVITE</td>\n",
       "      <td>0</td>\n",
       "      <td>0</td>\n",
       "      <td>380</td>\n",
       "      <td>380</td>\n",
       "    </tr>\n",
       "    <tr>\n",
       "      <th>4</th>\n",
       "      <td>5</td>\n",
       "      <td>0</td>\n",
       "      <td>GUEST_INVITE</td>\n",
       "      <td>0</td>\n",
       "      <td>0</td>\n",
       "      <td>504</td>\n",
       "      <td>500</td>\n",
       "    </tr>\n",
       "  </tbody>\n",
       "</table>\n",
       "</div>"
      ],
      "text/plain": [
       "   user_id  Adopted creation_source  opted_in_to_mailing_list  \\\n",
       "0        1        0    GUEST_INVITE                         1   \n",
       "1        2        0      ORG_INVITE                         0   \n",
       "2        3        0      ORG_INVITE                         0   \n",
       "3        4        0    GUEST_INVITE                         0   \n",
       "4        5        0    GUEST_INVITE                         0   \n",
       "\n",
       "   enabled_for_marketing_drip  age  last_login  \n",
       "0                           0   44          45  \n",
       "1                           0  202          67  \n",
       "2                           0  443         444  \n",
       "3                           0  380         380  \n",
       "4                           0  504         500  "
      ]
     },
     "execution_count": 377,
     "metadata": {},
     "output_type": "execute_result"
    }
   ],
   "source": [
    "combined_df.head()"
   ]
  },
  {
   "cell_type": "markdown",
   "id": "653ecfe8",
   "metadata": {},
   "source": [
    "# EDA"
   ]
  },
  {
   "cell_type": "code",
   "execution_count": 403,
   "id": "283ba496",
   "metadata": {},
   "outputs": [],
   "source": [
    "def barplot_cat(x=\"Adopted\", y=\"proportion\", hue=hue):\n",
    "    gfg=(combined_df[hue]\n",
    "         .groupby(combined_df[x])\n",
    "         .value_counts(normalize=True)\n",
    "         .rename(y)\n",
    "         .reset_index()\n",
    "         .pipe((sns.barplot, \"data\"), x=x, y=y, hue=hue))\n",
    "    plt.setp(gfg.get_legend().get_texts(), fontsize='5') \n",
    "    gfg.legend(bbox_to_anchor= (1.5,1))"
   ]
  },
  {
   "cell_type": "code",
   "execution_count": 404,
   "id": "336b44e9",
   "metadata": {},
   "outputs": [
    {
     "data": {
      "image/png": "[encoded data removed]",
      "text/plain": [
       "<Figure size 640x480 with 1 Axes>"
      ]
     },
     "metadata": {},
     "output_type": "display_data"
    }
   ],
   "source": [
    "hue='creation_source'\n",
    "barplot_cat(hue=hue)"
   ]
  },
  {
   "cell_type": "code",
   "execution_count": 405,
   "id": "19746065",
   "metadata": {},
   "outputs": [
    {
     "data": {
      "image/png": "[encoded data removed]",
      "text/plain": [
       "<Figure size 640x480 with 1 Axes>"
      ]
     },
     "metadata": {},
     "output_type": "display_data"
    }
   ],
   "source": [
    "hue='opted_in_to_mailing_list'\n",
    "barplot_cat(hue=hue)"
   ]
  },
  {
   "cell_type": "code",
   "execution_count": 406,
   "id": "336911b8",
   "metadata": {},
   "outputs": [
    {
     "data": {
      "image/png": "[encoded data removed]",
      "text/plain": [
       "<Figure size 640x480 with 1 Axes>"
      ]
     },
     "metadata": {},
     "output_type": "display_data"
    }
   ],
   "source": [
    "hue='enabled_for_marketing_drip'\n",
    "barplot_cat(hue=hue)"
   ]
  },
  {
   "cell_type": "code",
   "execution_count": 415,
   "id": "afb59758",
   "metadata": {},
   "outputs": [
    {
     "data": {
      "text/plain": [
       "<seaborn.axisgrid.FacetGrid at 0x1f7a1c21570>"
      ]
     },
     "execution_count": 415,
     "metadata": {},
     "output_type": "execute_result"
    },
    {
     "data": {
      "image/png": "[encoded data removed]",
      "text/plain": [
       "<Figure size 500x500 with 1 Axes>"
      ]
     },
     "metadata": {},
     "output_type": "display_data"
    }
   ],
   "source": [
    "sns.catplot(x=\"Adopted\",y='age',data=combined_df, kind='box')"
   ]
  },
  {
   "cell_type": "code",
   "execution_count": 419,
   "id": "9ef5e9be",
   "metadata": {},
   "outputs": [
    {
     "data": {
      "text/plain": [
       "<seaborn.axisgrid.FacetGrid at 0x1f7a20abcd0>"
      ]
     },
     "execution_count": 419,
     "metadata": {},
     "output_type": "execute_result"
    },
    {
     "data": {
      "image/png": "[encoded data removed]",
      "text/plain": [
       "<Figure size 500x500 with 1 Axes>"
      ]
     },
     "metadata": {},
     "output_type": "display_data"
    }
   ],
   "source": [
    "sns.catplot(x=\"Adopted\",y='last_login',data=combined_df, kind='box',showfliers=False)"
   ]
  },
  {
   "cell_type": "markdown",
   "id": "842be992",
   "metadata": {},
   "source": [
    "# Pre-processing"
   ]
  },
  {
   "cell_type": "code",
   "execution_count": 420,
   "id": "ba761194",
   "metadata": {},
   "outputs": [
    {
     "data": {
      "text/plain": [
       "Index(['user_id', 'Adopted', 'creation_source', 'opted_in_to_mailing_list',\n",
       "       'enabled_for_marketing_drip', 'age', 'last_login'],\n",
       "      dtype='object')"
      ]
     },
     "execution_count": 420,
     "metadata": {},
     "output_type": "execute_result"
    }
   ],
   "source": [
    "combined_df.columns"
   ]
  },
  {
   "cell_type": "code",
   "execution_count": 421,
   "id": "d7d1802a",
   "metadata": {},
   "outputs": [],
   "source": [
    "cols=['creation_source', 'opted_in_to_mailing_list','enabled_for_marketing_drip']                   \n",
    "combined_df=pd.get_dummies(combined_df,drop_first=True,columns=cols,dtype=float)"
   ]
  },
  {
   "cell_type": "code",
   "execution_count": 422,
   "id": "29ca951b",
   "metadata": {},
   "outputs": [
    {
     "data": {
      "text/html": [
       "<div>\n",
       "<style scoped>\n",
       "    .dataframe tbody tr th:only-of-type {\n",
       "        vertical-align: middle;\n",
       "    }\n",
       "\n",
       "    .dataframe tbody tr th {\n",
       "        vertical-align: top;\n",
       "    }\n",
       "\n",
       "    .dataframe thead th {\n",
       "        text-align: right;\n",
       "    }\n",
       "</style>\n",
       "<table border=\"1\" class=\"dataframe\">\n",
       "  <thead>\n",
       "    <tr style=\"text-align: right;\">\n",
       "      <th></th>\n",
       "      <th>user_id</th>\n",
       "      <th>Adopted</th>\n",
       "      <th>age</th>\n",
       "      <th>last_login</th>\n",
       "      <th>creation_source_ORG_INVITE</th>\n",
       "      <th>creation_source_PERSONAL_PROJECTS</th>\n",
       "      <th>creation_source_SIGNUP</th>\n",
       "      <th>creation_source_SIGNUP_GOOGLE_AUTH</th>\n",
       "      <th>opted_in_to_mailing_list_1</th>\n",
       "      <th>enabled_for_marketing_drip_1</th>\n",
       "    </tr>\n",
       "  </thead>\n",
       "  <tbody>\n",
       "    <tr>\n",
       "      <th>0</th>\n",
       "      <td>1</td>\n",
       "      <td>0</td>\n",
       "      <td>44</td>\n",
       "      <td>45</td>\n",
       "      <td>0.0</td>\n",
       "      <td>0.0</td>\n",
       "      <td>0.0</td>\n",
       "      <td>0.0</td>\n",
       "      <td>1.0</td>\n",
       "      <td>0.0</td>\n",
       "    </tr>\n",
       "    <tr>\n",
       "      <th>1</th>\n",
       "      <td>2</td>\n",
       "      <td>0</td>\n",
       "      <td>202</td>\n",
       "      <td>67</td>\n",
       "      <td>1.0</td>\n",
       "      <td>0.0</td>\n",
       "      <td>0.0</td>\n",
       "      <td>0.0</td>\n",
       "      <td>0.0</td>\n",
       "      <td>0.0</td>\n",
       "    </tr>\n",
       "    <tr>\n",
       "      <th>2</th>\n",
       "      <td>3</td>\n",
       "      <td>0</td>\n",
       "      <td>443</td>\n",
       "      <td>444</td>\n",
       "      <td>1.0</td>\n",
       "      <td>0.0</td>\n",
       "      <td>0.0</td>\n",
       "      <td>0.0</td>\n",
       "      <td>0.0</td>\n",
       "      <td>0.0</td>\n",
       "    </tr>\n",
       "    <tr>\n",
       "      <th>3</th>\n",
       "      <td>4</td>\n",
       "      <td>0</td>\n",
       "      <td>380</td>\n",
       "      <td>380</td>\n",
       "      <td>0.0</td>\n",
       "      <td>0.0</td>\n",
       "      <td>0.0</td>\n",
       "      <td>0.0</td>\n",
       "      <td>0.0</td>\n",
       "      <td>0.0</td>\n",
       "    </tr>\n",
       "    <tr>\n",
       "      <th>4</th>\n",
       "      <td>5</td>\n",
       "      <td>0</td>\n",
       "      <td>504</td>\n",
       "      <td>500</td>\n",
       "      <td>0.0</td>\n",
       "      <td>0.0</td>\n",
       "      <td>0.0</td>\n",
       "      <td>0.0</td>\n",
       "      <td>0.0</td>\n",
       "      <td>0.0</td>\n",
       "    </tr>\n",
       "  </tbody>\n",
       "</table>\n",
       "</div>"
      ],
      "text/plain": [
       "   user_id  Adopted  age  last_login  creation_source_ORG_INVITE  \\\n",
       "0        1        0   44          45                         0.0   \n",
       "1        2        0  202          67                         1.0   \n",
       "2        3        0  443         444                         1.0   \n",
       "3        4        0  380         380                         0.0   \n",
       "4        5        0  504         500                         0.0   \n",
       "\n",
       "   creation_source_PERSONAL_PROJECTS  creation_source_SIGNUP  \\\n",
       "0                                0.0                     0.0   \n",
       "1                                0.0                     0.0   \n",
       "2                                0.0                     0.0   \n",
       "3                                0.0                     0.0   \n",
       "4                                0.0                     0.0   \n",
       "\n",
       "   creation_source_SIGNUP_GOOGLE_AUTH  opted_in_to_mailing_list_1  \\\n",
       "0                                 0.0                         1.0   \n",
       "1                                 0.0                         0.0   \n",
       "2                                 0.0                         0.0   \n",
       "3                                 0.0                         0.0   \n",
       "4                                 0.0                         0.0   \n",
       "\n",
       "   enabled_for_marketing_drip_1  \n",
       "0                           0.0  \n",
       "1                           0.0  \n",
       "2                           0.0  \n",
       "3                           0.0  \n",
       "4                           0.0  "
      ]
     },
     "execution_count": 422,
     "metadata": {},
     "output_type": "execute_result"
    }
   ],
   "source": [
    "combined_df.head()"
   ]
  },
  {
   "cell_type": "code",
   "execution_count": 423,
   "id": "ae47f299",
   "metadata": {},
   "outputs": [],
   "source": [
    "X=combined_df.drop(columns=['user_id', 'Adopted'],axis=1)\n",
    "y=combined_df['Adopted']"
   ]
  },
  {
   "cell_type": "code",
   "execution_count": 424,
   "id": "772146df",
   "metadata": {},
   "outputs": [
    {
     "name": "stdout",
     "output_type": "stream",
     "text": [
      "X_train :  (7940, 8)\n",
      "X_test :  (883, 8)\n",
      "train_test sets are splited with stratification: \n",
      "\t training set: [0.84798489 0.15201511] \n",
      "train_test sets are splited with stratification: \n",
      "\t test set: [0.84824462 0.15175538] \n"
     ]
    }
   ],
   "source": [
    "X_train, X_test, y_train, y_test = train_test_split(X, y, test_size=0.1, stratify=y,random_state=123)\n",
    "print('X_train : ',X_train.shape)\n",
    "print('X_test : ',X_test.shape)\n",
    "\n",
    "unique,count=np.unique(y_train, return_counts=True)\n",
    "print('train_test sets are splited with stratification: \\n\\t training set: {} '.format(count/len(y_train)))\n",
    "unique1,count1=np.unique(y_test, return_counts=True)\n",
    "print('train_test sets are splited with stratification: \\n\\t test set: {} '.format(count1/len(y_test)))"
   ]
  },
  {
   "cell_type": "code",
   "execution_count": 425,
   "id": "b249205d",
   "metadata": {},
   "outputs": [],
   "source": [
    "cols=['age', 'last_login']\n",
    "\n",
    "scaler = PowerTransformer()\n",
    "X_train[cols] = scaler.fit_transform(X_train[cols])\n",
    "X_test[cols] = scaler.transform(X_test[cols])"
   ]
  },
  {
   "cell_type": "markdown",
   "id": "c4a28db1",
   "metadata": {},
   "source": [
    "# Train Model"
   ]
  },
  {
   "cell_type": "markdown",
   "id": "8a26a63a",
   "metadata": {},
   "source": [
    "## LogisticRegression Classification"
   ]
  },
  {
   "cell_type": "code",
   "execution_count": 426,
   "id": "a26f4f23",
   "metadata": {},
   "outputs": [
    {
     "name": "stdout",
     "output_type": "stream",
     "text": [
      "Base Model : \n",
      "[[743   6]\n",
      " [ 25 109]]\n",
      "              precision    recall  f1-score   support\n",
      "\n",
      "           0       0.97      0.99      0.98       749\n",
      "           1       0.95      0.81      0.88       134\n",
      "\n",
      "    accuracy                           0.96       883\n",
      "   macro avg       0.96      0.90      0.93       883\n",
      "weighted avg       0.96      0.96      0.96       883\n",
      "\n"
     ]
    },
    {
     "data": {
      "text/plain": [
       "<sklearn.metrics._plot.confusion_matrix.ConfusionMatrixDisplay at 0x1f7aab3ed70>"
      ]
     },
     "execution_count": 426,
     "metadata": {},
     "output_type": "execute_result"
    },
    {
     "data": {
      "image/png": "[encoded data removed]",
      "text/plain": [
       "<Figure size 640x480 with 2 Axes>"
      ]
     },
     "metadata": {},
     "output_type": "display_data"
    }
   ],
   "source": [
    "logit_clf= LogisticRegression(penalty='l2',random_state = 0) \n",
    "logit_clf.fit(X_train,y_train)\n",
    "y_pred=logit_clf.predict(X_test)\n",
    "\n",
    "pl = confusion_matrix(y_test,y_pred)\n",
    "print(\"Base Model : \\n{}\".format(pl))\n",
    "\n",
    "print(classification_report(y_test,y_pred))\n",
    "\n",
    "dist=ConfusionMatrixDisplay(confusion_matrix=pl,display_labels=logit_clf.classes_)\n",
    "dist.plot()"
   ]
  },
  {
   "cell_type": "markdown",
   "id": "23f44098",
   "metadata": {},
   "source": [
    "## Feature Importance"
   ]
  },
  {
   "cell_type": "code",
   "execution_count": 427,
   "id": "727896ce",
   "metadata": {},
   "outputs": [
    {
     "data": {
      "text/plain": [
       "Text(0, 0.5, 'Relative Importance')"
      ]
     },
     "execution_count": 427,
     "metadata": {},
     "output_type": "execute_result"
    },
    {
     "data": {
      "image/png": "[encoded data removed]",
      "text/plain": [
       "<Figure size 1000x600 with 1 Axes>"
      ]
     },
     "metadata": {},
     "output_type": "display_data"
    }
   ],
   "source": [
    "##feature importance plot\n",
    "model=logit_clf\n",
    "coefficients = model.coef_\n",
    "\n",
    "avg_importance = np.mean(np.abs(coefficients), axis=0)\n",
    "feature_importance = pd.DataFrame({'Feature': X_train.columns, 'Importance': avg_importance/np.sum(avg_importance)})\n",
    "feature_importance = feature_importance.sort_values('Importance', ascending=True)\n",
    "feature_importance.plot(x='Feature', y='Importance', kind='barh', figsize=(10, 6))\n",
    "plt.ylabel('Relative Importance')"
   ]
  },
  {
   "cell_type": "code",
   "execution_count": 440,
   "id": "3ce21eca",
   "metadata": {},
   "outputs": [
    {
     "data": {
      "text/html": [
       "<div>\n",
       "<style scoped>\n",
       "    .dataframe tbody tr th:only-of-type {\n",
       "        vertical-align: middle;\n",
       "    }\n",
       "\n",
       "    .dataframe tbody tr th {\n",
       "        vertical-align: top;\n",
       "    }\n",
       "\n",
       "    .dataframe thead th {\n",
       "        text-align: right;\n",
       "    }\n",
       "</style>\n",
       "<table border=\"1\" class=\"dataframe\">\n",
       "  <thead>\n",
       "    <tr style=\"text-align: right;\">\n",
       "      <th></th>\n",
       "      <th>features</th>\n",
       "      <th>coef</th>\n",
       "    </tr>\n",
       "  </thead>\n",
       "  <tbody>\n",
       "    <tr>\n",
       "      <th>0</th>\n",
       "      <td>age</td>\n",
       "      <td>4.365790</td>\n",
       "    </tr>\n",
       "    <tr>\n",
       "      <th>1</th>\n",
       "      <td>last_login</td>\n",
       "      <td>-4.895352</td>\n",
       "    </tr>\n",
       "    <tr>\n",
       "      <th>2</th>\n",
       "      <td>creation_source_ORG_INVITE</td>\n",
       "      <td>-0.118955</td>\n",
       "    </tr>\n",
       "    <tr>\n",
       "      <th>3</th>\n",
       "      <td>creation_source_PERSONAL_PROJECTS</td>\n",
       "      <td>0.041045</td>\n",
       "    </tr>\n",
       "    <tr>\n",
       "      <th>4</th>\n",
       "      <td>creation_source_SIGNUP</td>\n",
       "      <td>-0.240982</td>\n",
       "    </tr>\n",
       "    <tr>\n",
       "      <th>5</th>\n",
       "      <td>creation_source_SIGNUP_GOOGLE_AUTH</td>\n",
       "      <td>-0.352389</td>\n",
       "    </tr>\n",
       "    <tr>\n",
       "      <th>6</th>\n",
       "      <td>opted_in_to_mailing_list_1</td>\n",
       "      <td>0.222724</td>\n",
       "    </tr>\n",
       "    <tr>\n",
       "      <th>7</th>\n",
       "      <td>enabled_for_marketing_drip_1</td>\n",
       "      <td>-0.328895</td>\n",
       "    </tr>\n",
       "  </tbody>\n",
       "</table>\n",
       "</div>"
      ],
      "text/plain": [
       "                             features      coef\n",
       "0                                 age  4.365790\n",
       "1                          last_login -4.895352\n",
       "2          creation_source_ORG_INVITE -0.118955\n",
       "3   creation_source_PERSONAL_PROJECTS  0.041045\n",
       "4              creation_source_SIGNUP -0.240982\n",
       "5  creation_source_SIGNUP_GOOGLE_AUTH -0.352389\n",
       "6          opted_in_to_mailing_list_1  0.222724\n",
       "7        enabled_for_marketing_drip_1 -0.328895"
      ]
     },
     "execution_count": 440,
     "metadata": {},
     "output_type": "execute_result"
    }
   ],
   "source": [
    "coef_df=pd.DataFrame({'features':list(X_train.columns), 'coef':list(coefficients.reshape(-1))})\n",
    "coef_df"
   ]
  },
  {
   "cell_type": "markdown",
   "id": "a40f2bf1",
   "metadata": {},
   "source": [
    "# Summary of Findings"
   ]
  },
  {
   "cell_type": "markdown",
   "id": "e453da4e",
   "metadata": {},
   "source": [
    "1.In  “takehome_user_engagement” file, there are only 8823 unique users, and therefore we were only able to determine the 8823 user’s adoption of the product. Among the 8823 users, about 84.8% users did not adopt the product and only about 15.2% users did adopt the product. There is no missing values in the “takehome_user” file for the 8823 users.\n",
    "\n",
    "\n",
    "2.Features such as 'object_id','name', 'email', 'org_id','invited_by_user_id' were dropped before further data exploration  and only features such as 'creation_source', 'opted_in_to_mailing_list', 'enabled_for_marketing_drip', 'creation_time', 'last_login_creation_time' were entered for classification. At EDA step, I examined bi-variate correlation between each feature with the target variable ‘adoption’. As can been seen from the barplots presented  in EDA section,  there is no clear correlation between the target feature with  'enabled_for_marketing_drip' or  'last_login_creation_time' . Distribution of “creation_source” showed very little difference between users who adopted the product and users who did not. Visually examination of the boxplots of Creation_time and last_login_creation_time showed very distinct distributions between two groups. \n",
    "\n",
    "\n",
    "3.I applied logistic regression for classification, at 80/20 train/test split.  The model performs quite well. The following is a summary of performance of the modeling method.\n",
    "\n",
    "                  Adpotion\tprecision\trecall\tf1-score\n",
    "                       Yes\t     0.97\t  0.99\t    0.98\n",
    "                        No\t     0.95\t  0.81\t    0.88\n",
    "                  accuracy\t\t                    0.96\t\n",
    "                 macro avg\t     0.96\t  0.90\t    0.93\n",
    "              weighted avg\t     0.96\t  0.96\t    0.96\n",
    "\n",
    "4.The most important factor in predicting whether the user will adopt the product is how long ago the user last logged into the product, the more recent the user's last login is, the more likely the user will adopt the product. The second most important factor in predicting adoption of the product by user is the elapsed time from the user first created login. The longer history the user has with the product, the more likely the user will adopt the product. Factors such as how the user's account was created, whether the user has opted into receiving marketing emails, and whether the user is on the regular marketing email drip seem to have very little impact on predicting adoption of the product by the user, which is consistent with our observation in EDA step.  Feature importance are ranked and plotted in Feature Importance Plot in Section Train Model/Feature Importance. "
   ]
  }
 ],
 "metadata": {
  "kernelspec": {
   "display_name": "Python 3 (ipykernel)",
   "language": "python",
   "name": "python3"
  },
  "language_info": {
   "codemirror_mode": {
    "name": "ipython",
    "version": 3
   },
   "file_extension": ".py",
   "mimetype": "text/x-python",
   "name": "python",
   "nbconvert_exporter": "python",
   "pygments_lexer": "ipython3",
   "version": "3.10.9"
  }
 },
 "nbformat": 4,
 "nbformat_minor": 5
}
