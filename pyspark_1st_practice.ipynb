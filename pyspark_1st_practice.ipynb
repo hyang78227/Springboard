{
  "cells": [
    {
      "cell_type": "markdown",
      "metadata": {
        "id": "view-in-github",
        "colab_type": "text"
      },
      "source": [
        "<a href=\"https://colab.research.google.com/github/hyang78227/Springboard/blob/main/pyspark_1st_practice.ipynb\" target=\"_parent\"><img src=\"https://colab.research.google.com/assets/colab-badge.svg\" alt=\"Open In Colab\"/></a>"
      ]
    },
    {
      "cell_type": "code",
      "source": [
        "#check to make sure that spark is on the virtual machine\n",
        "!ls"
      ],
      "metadata": {
        "id": "CmmwItETKS5G"
      },
      "id": "CmmwItETKS5G",
      "execution_count": null,
      "outputs": []
    },
    {
      "cell_type": "code",
      "source": [
        "# innstall java\n",
        "!apt-get install openjdk-8-jdk-headless -qq > /dev/null\n",
        "\n",
        "# install spark (change the version number if needed)\n",
        "!wget -q https://archive.apache.org/dist/spark/spark-3.0.0/spark-3.0.0-bin-hadoop3.2.tgz\n",
        "\n",
        "# unzip the spark file to the current folder\n",
        "!tar xf spark-3.0.0-bin-hadoop3.2.tgz\n",
        "\n",
        "!pip install -q findspark\n",
        "!pip install pyspark"
      ],
      "metadata": {
        "colab": {
          "base_uri": "https://localhost:8080/"
        },
        "id": "KsAuynmOCQZx",
        "outputId": "3ceeb0d4-9c47-4614-e165-e7d805f8cb72"
      },
      "id": "KsAuynmOCQZx",
      "execution_count": 19,
      "outputs": [
        {
          "output_type": "stream",
          "name": "stdout",
          "text": [
            "Looking in indexes: https://pypi.org/simple, https://us-python.pkg.dev/colab-wheels/public/simple/\n",
            "Requirement already satisfied: pyspark in /usr/local/lib/python3.10/dist-packages (3.4.0)\n",
            "Requirement already satisfied: py4j==0.10.9.7 in /usr/local/lib/python3.10/dist-packages (from pyspark) (0.10.9.7)\n"
          ]
        }
      ]
    },
    {
      "cell_type": "code",
      "source": [
        "# set your spark folder to your system path environment. \n",
        "import os\n",
        "os.environ[\"JAVA_HOME\"] = \"/usr/lib/jvm/java-8-openjdk-amd64\"\n",
        "os.environ[\"SPARK_HOME\"] = \"/content/spark-3.0.0-bin-hadoop3.2\""
      ],
      "metadata": {
        "id": "dQy5S7DHCN-R"
      },
      "id": "dQy5S7DHCN-R",
      "execution_count": 10,
      "outputs": []
    },
    {
      "cell_type": "code",
      "execution_count": 11,
      "id": "5f2d75c0",
      "metadata": {
        "id": "5f2d75c0"
      },
      "outputs": [],
      "source": [
        "import findspark\n",
        "findspark.init()\n",
        "from pyspark import SparkContext\n",
        "sc=SparkContext.getOrCreate()"
      ]
    },
    {
      "cell_type": "code",
      "execution_count": 12,
      "id": "958eeb9b",
      "metadata": {
        "id": "958eeb9b"
      },
      "outputs": [],
      "source": [
        "from pyspark.sql import SparkSession, Row\n",
        "from pyspark.sql.types import StringType,  IntegerType, ArrayType,StructType,StructField\n"
      ]
    },
    {
      "cell_type": "code",
      "execution_count": 13,
      "id": "c4d1d9fb",
      "metadata": {
        "id": "c4d1d9fb"
      },
      "outputs": [],
      "source": [
        "spark=SparkSession.builder.appName('SparkByExamples.com').getOrCreate()"
      ]
    },
    {
      "cell_type": "code",
      "execution_count": 14,
      "id": "fc28bb10",
      "metadata": {
        "colab": {
          "base_uri": "https://localhost:8080/"
        },
        "id": "fc28bb10",
        "outputId": "6ccf3ad8-2c43-407c-ca7b-a7837b51a267"
      },
      "outputs": [
        {
          "output_type": "stream",
          "name": "stdout",
          "text": [
            "root\n",
            " |-- dept_name: string (nullable = true)\n",
            " |-- dept_id: long (nullable = true)\n",
            "\n",
            "+---------+-------+\n",
            "|dept_name|dept_id|\n",
            "+---------+-------+\n",
            "|Finance  |10     |\n",
            "|Marketing|20     |\n",
            "|Sales    |30     |\n",
            "|IT       |40     |\n",
            "+---------+-------+\n",
            "\n"
          ]
        }
      ],
      "source": [
        "dept = [(\"Finance\",10), \n",
        "        (\"Marketing\",20), \n",
        "        (\"Sales\",30), \n",
        "        (\"IT\",40) \n",
        "      ]\n",
        "deptColumns = [\"dept_name\",\"dept_id\"]\n",
        "deptDF = spark.createDataFrame(data=dept, schema = deptColumns)\n",
        "deptDF.printSchema()\n",
        "deptDF.show(truncate=False)"
      ]
    },
    {
      "cell_type": "code",
      "execution_count": null,
      "id": "8afe63a0",
      "metadata": {
        "id": "8afe63a0",
        "outputId": "7e8075fa-38c3-4b56-a683-74294d5a98d2"
      },
      "outputs": [
        {
          "name": "stdout",
          "output_type": "stream",
          "text": [
            "root\n",
            " |-- dept_name: string (nullable = true)\n",
            " |-- dept_id: integer (nullable = true)\n",
            "\n",
            "+---------+-------+\n",
            "|dept_name|dept_id|\n",
            "+---------+-------+\n",
            "|Finance  |10     |\n",
            "|Marketing|20     |\n",
            "|Sales    |30     |\n",
            "|IT       |40     |\n",
            "+---------+-------+\n",
            "\n"
          ]
        }
      ],
      "source": [
        "deptSchema = StructType([       \n",
        "    StructField('dept_name', StringType(), True),\n",
        "    StructField('dept_id', IntegerType(), True)\n",
        "])\n",
        "\n",
        "deptDF1 = spark.createDataFrame(data=dept, schema = deptSchema)\n",
        "deptDF1.printSchema()\n",
        "deptDF1.show(truncate=False)\n"
      ]
    },
    {
      "cell_type": "markdown",
      "id": "5464bcd5",
      "metadata": {
        "id": "5464bcd5"
      },
      "source": [
        "## 1. Tutorial on RDD"
      ]
    },
    {
      "cell_type": "code",
      "execution_count": null,
      "id": "a76dafa9",
      "metadata": {
        "id": "a76dafa9"
      },
      "outputs": [],
      "source": [
        "###Transformations methods ( .map(), .filter(),   .flatmap())\n",
        "#Actions methods  (.reduce(),   .take(),   .collect(),   .sum())"
      ]
    },
    {
      "cell_type": "code",
      "execution_count": null,
      "id": "04a1919b",
      "metadata": {
        "id": "04a1919b"
      },
      "outputs": [],
      "source": [
        "# Convert list to RDD\n",
        "rdd = spark.sparkContext.parallelize(dept)"
      ]
    },
    {
      "cell_type": "code",
      "execution_count": null,
      "id": "09b17ab8",
      "metadata": {
        "id": "09b17ab8",
        "outputId": "514b1647-59de-4bb8-b22e-bb573bee3588"
      },
      "outputs": [
        {
          "data": {
            "text/plain": [
              "100"
            ]
          },
          "execution_count": 29,
          "metadata": {},
          "output_type": "execute_result"
        }
      ],
      "source": [
        "rdd.map(lambda t: t[1]).sum()"
      ]
    },
    {
      "cell_type": "code",
      "execution_count": null,
      "id": "266c5111",
      "metadata": {
        "id": "266c5111"
      },
      "outputs": [],
      "source": [
        "# Convert list to RDD\n",
        "rdd = spark.sparkContext.parallelize(range(1,10))"
      ]
    },
    {
      "cell_type": "code",
      "execution_count": null,
      "id": "3d30333d",
      "metadata": {
        "id": "3d30333d",
        "outputId": "e81e84f3-b628-456e-abbf-fe128997b33d"
      },
      "outputs": [
        {
          "data": {
            "text/plain": [
              "[1, 2, 3, 4, 5, 6, 7, 8, 9]"
            ]
          },
          "execution_count": 122,
          "metadata": {},
          "output_type": "execute_result"
        }
      ],
      "source": [
        "rdd.collect()"
      ]
    },
    {
      "cell_type": "code",
      "execution_count": null,
      "id": "db7ae9ff",
      "metadata": {
        "id": "db7ae9ff",
        "outputId": "d78bc16d-e415-4ac4-ff66-4d3e37a2c815"
      },
      "outputs": [
        {
          "data": {
            "text/plain": [
              "162"
            ]
          },
          "execution_count": 123,
          "metadata": {},
          "output_type": "execute_result"
        }
      ],
      "source": [
        "from operator import mul\n",
        "rdd.filter(lambda x: x%3==0).reduce(mul)"
      ]
    },
    {
      "cell_type": "code",
      "execution_count": null,
      "id": "bc5f2b75",
      "metadata": {
        "id": "bc5f2b75",
        "outputId": "ad85a409-9f78-43d3-e40d-53f4730a494c"
      },
      "outputs": [
        {
          "data": {
            "text/plain": [
              "162"
            ]
          },
          "execution_count": 126,
          "metadata": {},
          "output_type": "execute_result"
        }
      ],
      "source": [
        "rdd.filter(lambda x: x%3==0).reduce(lambda x,y: x*y)"
      ]
    },
    {
      "cell_type": "markdown",
      "id": "21d4c02a",
      "metadata": {
        "id": "21d4c02a"
      },
      "source": [
        "## 2. Read Files"
      ]
    },
    {
      "cell_type": "code",
      "execution_count": null,
      "id": "9e7df0a4",
      "metadata": {
        "id": "9e7df0a4"
      },
      "outputs": [],
      "source": [
        "# sc.textFile()\n",
        "#return a RDD of strings\n",
        "#can read from many file usinfg whildcards (*)\n",
        "#can read from hdfs\n",
        "#we normally use map right after split/parse the lines\n",
        "\n",
        "#people=sc.textFile('../data/people.txt')\n",
        "#people.map(lambda x: x.split('\\t')).first()"
      ]
    },
    {
      "cell_type": "code",
      "execution_count": null,
      "id": "ca29f284",
      "metadata": {
        "id": "ca29f284"
      },
      "outputs": [],
      "source": []
    },
    {
      "cell_type": "code",
      "execution_count": null,
      "id": "9b7af7e7",
      "metadata": {
        "id": "9b7af7e7"
      },
      "outputs": [],
      "source": []
    },
    {
      "cell_type": "markdown",
      "id": "c51af03a",
      "metadata": {
        "id": "c51af03a"
      },
      "source": [
        "## 3. schema by StrctType "
      ]
    },
    {
      "cell_type": "code",
      "execution_count": null,
      "id": "469ea769",
      "metadata": {
        "id": "469ea769",
        "outputId": "20c868e9-d8a2-4409-831c-b3b007145e04"
      },
      "outputs": [
        {
          "name": "stdout",
          "output_type": "stream",
          "text": [
            "root\n",
            " |-- firstname: string (nullable = true)\n",
            " |-- middlename: string (nullable = true)\n",
            " |-- lastname: string (nullable = true)\n",
            " |-- id: string (nullable = true)\n",
            " |-- gender: string (nullable = true)\n",
            " |-- salary: integer (nullable = true)\n",
            "\n",
            "+---------+----------+--------+-----+------+------+\n",
            "|firstname|middlename|lastname|id   |gender|salary|\n",
            "+---------+----------+--------+-----+------+------+\n",
            "|James    |          |Smith   |36636|M     |3000  |\n",
            "|Michael  |Rose      |        |40288|M     |4000  |\n",
            "|Robert   |          |Williams|42114|M     |4000  |\n",
            "|Maria    |Anne      |Jones   |39192|F     |4000  |\n",
            "|Jen      |Mary      |Brown   |     |F     |-1    |\n",
            "+---------+----------+--------+-----+------+------+\n",
            "\n"
          ]
        }
      ],
      "source": [
        "data1 = [(\"James\",\"\",\"Smith\",\"36636\",\"M\",3000),\n",
        "         (\"Michael\",\"Rose\",\"\",\"40288\",\"M\",4000),\n",
        "         (\"Robert\",\"\",\"Williams\",\"42114\",\"M\",4000),\n",
        "         (\"Maria\",\"Anne\",\"Jones\",\"39192\",\"F\",4000),\n",
        "         (\"Jen\",\"Mary\",\"Brown\",\"\",\"F\",-1)]\n",
        "\n",
        "schema = StructType([ \\\n",
        "    StructField(\"firstname\",StringType(),True), \\\n",
        "    StructField(\"middlename\",StringType(),True), \\\n",
        "    StructField(\"lastname\",StringType(),True), \\\n",
        "    StructField(\"id\", StringType(), True), \\\n",
        "    StructField(\"gender\", StringType(), True), \\\n",
        "    StructField(\"salary\", IntegerType(), True) \\\n",
        "  ])\n",
        " \n",
        "salary_df = spark.createDataFrame(data=data1,schema=schema)\n",
        "salary_df.printSchema()\n",
        "salary_df.show(truncate=False)    "
      ]
    },
    {
      "cell_type": "code",
      "execution_count": null,
      "id": "d8a2e017",
      "metadata": {
        "id": "d8a2e017"
      },
      "outputs": [],
      "source": [
        "rdd1=spark.sparkContext.parallelize(data1)"
      ]
    },
    {
      "cell_type": "code",
      "execution_count": null,
      "id": "61b7b79f",
      "metadata": {
        "id": "61b7b79f",
        "outputId": "2002d58d-7c72-4348-a116-f3693feec5f8"
      },
      "outputs": [
        {
          "data": {
            "text/plain": [
              "('Robert', '', 'Williams', '42114', 'M', 4000)"
            ]
          },
          "execution_count": 42,
          "metadata": {},
          "output_type": "execute_result"
        }
      ],
      "source": [
        "rdd1.filter(lambda t: t[5]).max()"
      ]
    },
    {
      "cell_type": "markdown",
      "id": "4001bfed",
      "metadata": {
        "id": "4001bfed"
      },
      "source": [
        "## 4. Defining Nested StructType object struct"
      ]
    },
    {
      "cell_type": "code",
      "execution_count": null,
      "id": "c5084f69",
      "metadata": {
        "id": "c5084f69",
        "outputId": "128e1ecb-2780-45fc-c1fe-1bc4164c473a"
      },
      "outputs": [
        {
          "name": "stdout",
          "output_type": "stream",
          "text": [
            "root\n",
            " |-- name: struct (nullable = true)\n",
            " |    |-- firstname: string (nullable = true)\n",
            " |    |-- middlename: string (nullable = true)\n",
            " |    |-- lastname: string (nullable = true)\n",
            " |-- id: string (nullable = true)\n",
            " |-- gender: string (nullable = true)\n",
            " |-- salary: integer (nullable = true)\n",
            "\n",
            "+--------------------+-----+------+------+\n",
            "|name                |id   |gender|salary|\n",
            "+--------------------+-----+------+------+\n",
            "|{James, , Smith}    |36636|M     |3100  |\n",
            "|{Michael, Rose, }   |40288|M     |4300  |\n",
            "|{Robert, , Williams}|42114|M     |1400  |\n",
            "|{Maria, Anne, Jones}|39192|F     |5500  |\n",
            "|{Jen, Mary, Brown}  |     |F     |-1    |\n",
            "+--------------------+-----+------+------+\n",
            "\n"
          ]
        }
      ],
      "source": [
        "structureData = [\n",
        "    ((\"James\",\"\",\"Smith\"),\"36636\",\"M\",3100),\n",
        "    ((\"Michael\",\"Rose\",\"\"),\"40288\",\"M\",4300),\n",
        "    ((\"Robert\",\"\",\"Williams\"),\"42114\",\"M\",1400),\n",
        "    ((\"Maria\",\"Anne\",\"Jones\"),\"39192\",\"F\",5500),\n",
        "    ((\"Jen\",\"Mary\",\"Brown\"),\"\",\"F\",-1)\n",
        "  ]\n",
        "structureSchema = StructType([\n",
        "        StructField('name', StructType([\n",
        "             StructField('firstname', StringType(), True),\n",
        "             StructField('middlename', StringType(), True),\n",
        "             StructField('lastname', StringType(), True)\n",
        "             ])),\n",
        "         StructField('id', StringType(), True),\n",
        "         StructField('gender', StringType(), True),\n",
        "         StructField('salary', IntegerType(), True)\n",
        "         ])\n",
        "\n",
        "df2 = spark.createDataFrame(data=structureData,schema=structureSchema)\n",
        "df2.printSchema()\n",
        "df2.show(truncate=False)"
      ]
    },
    {
      "cell_type": "markdown",
      "id": "40f756a6",
      "metadata": {
        "id": "40f756a6"
      },
      "source": [
        "## 5. Adding & Changing struct of the DataFrame"
      ]
    },
    {
      "cell_type": "code",
      "execution_count": null,
      "id": "5cb01e20",
      "metadata": {
        "id": "5cb01e20",
        "outputId": "c7947faf-2bff-4561-8a68-4786db5b0b91"
      },
      "outputs": [
        {
          "name": "stdout",
          "output_type": "stream",
          "text": [
            "root\n",
            " |-- name: struct (nullable = true)\n",
            " |    |-- firstname: string (nullable = true)\n",
            " |    |-- middlename: string (nullable = true)\n",
            " |    |-- lastname: string (nullable = true)\n",
            " |-- OtherInfo: struct (nullable = false)\n",
            " |    |-- identifier: string (nullable = true)\n",
            " |    |-- gender: string (nullable = true)\n",
            " |    |-- salary: integer (nullable = true)\n",
            " |    |-- Salary_Grade: string (nullable = false)\n",
            "\n",
            "+--------------------+------------------------+\n",
            "|name                |OtherInfo               |\n",
            "+--------------------+------------------------+\n",
            "|{James, , Smith}    |{36636, M, 3100, Medium}|\n",
            "|{Michael, Rose, }   |{40288, M, 4300, High}  |\n",
            "|{Robert, , Williams}|{42114, M, 1400, Low}   |\n",
            "|{Maria, Anne, Jones}|{39192, F, 5500, High}  |\n",
            "|{Jen, Mary, Brown}  |{, F, -1, Low}          |\n",
            "+--------------------+------------------------+\n",
            "\n"
          ]
        }
      ],
      "source": [
        "from pyspark.sql.functions import col,struct,when\n",
        "\n",
        "updatedDF = df2.withColumn(\"OtherInfo\", \n",
        "    struct(col(\"id\").alias(\"identifier\"),\n",
        "    col(\"gender\").alias(\"gender\"),\n",
        "    col(\"salary\").alias(\"salary\"),\n",
        "    when(col(\"salary\").cast(IntegerType()) < 2000,\"Low\")\n",
        "      .when(col(\"salary\").cast(IntegerType()) < 4000,\"Medium\")\n",
        "      .otherwise(\"High\").alias(\"Salary_Grade\")\n",
        "  )).drop(\"id\",\"gender\",\"salary\")\n",
        "\n",
        "updatedDF.printSchema()\n",
        "updatedDF.show(truncate=False)"
      ]
    },
    {
      "cell_type": "markdown",
      "id": "5499b432",
      "metadata": {
        "id": "5499b432"
      },
      "source": [
        "## 6. Creating StructType object struct from JSON file"
      ]
    },
    {
      "cell_type": "code",
      "execution_count": null,
      "id": "f8a1a227",
      "metadata": {
        "id": "f8a1a227",
        "outputId": "1e9089f6-c7f7-4c92-ba10-00c49b2b06c9"
      },
      "outputs": [
        {
          "data": {
            "text/plain": [
              "(('James', '', 'Smith'), '36636', 'M', 3100)"
            ]
          },
          "execution_count": 52,
          "metadata": {},
          "output_type": "execute_result"
        }
      ],
      "source": [
        "spark.sparkContext.parallelize(structureData).first()"
      ]
    },
    {
      "cell_type": "code",
      "execution_count": null,
      "id": "82fdf005",
      "metadata": {
        "id": "82fdf005",
        "outputId": "8b2dba88-0440-4cd7-b0d4-f610082cf03d"
      },
      "outputs": [
        {
          "name": "stdout",
          "output_type": "stream",
          "text": [
            "root\n",
            " |-- name: struct (nullable = true)\n",
            " |    |-- firstname: string (nullable = true)\n",
            " |    |-- middlename: string (nullable = true)\n",
            " |    |-- lastname: string (nullable = true)\n",
            " |-- id: string (nullable = true)\n",
            " |-- gender: string (nullable = true)\n",
            " |-- salary: integer (nullable = true)\n",
            "\n",
            "+--------------------+-----+------+------+\n",
            "|name                |id   |gender|salary|\n",
            "+--------------------+-----+------+------+\n",
            "|{James, , Smith}    |36636|M     |3100  |\n",
            "|{Michael, Rose, }   |40288|M     |4300  |\n",
            "|{Robert, , Williams}|42114|M     |1400  |\n",
            "|{Maria, Anne, Jones}|39192|F     |5500  |\n",
            "|{Jen, Mary, Brown}  |     |F     |-1    |\n",
            "+--------------------+-----+------+------+\n",
            "\n"
          ]
        }
      ],
      "source": [
        "import json\n",
        "schemaFromJson = StructType.fromJson(json.loads(structureSchema.json()))\n",
        "df3 = spark.createDataFrame(spark.sparkContext.parallelize(structureData),schemaFromJson)\n",
        "df3.printSchema()\n",
        "df3.show(truncate=False)"
      ]
    },
    {
      "cell_type": "markdown",
      "id": "d1ea9efe",
      "metadata": {
        "id": "d1ea9efe"
      },
      "source": [
        "## 7. Create PySpark ArrayType Column Using StructType"
      ]
    },
    {
      "cell_type": "code",
      "execution_count": null,
      "id": "532400b1",
      "metadata": {
        "id": "532400b1",
        "outputId": "4ba68cfc-11a3-4694-8dc2-e75fdc9fb3c6"
      },
      "outputs": [
        {
          "name": "stdout",
          "output_type": "stream",
          "text": [
            "root\n",
            " |-- name: string (nullable = true)\n",
            " |-- languagesAtSchool: array (nullable = true)\n",
            " |    |-- element: string (containsNull = true)\n",
            " |-- languagesAtWork: array (nullable = true)\n",
            " |    |-- element: string (containsNull = true)\n",
            " |-- currentState: string (nullable = true)\n",
            " |-- previousState: string (nullable = true)\n",
            "\n",
            "+----------------+------------------+---------------+------------+-------------+\n",
            "|            name| languagesAtSchool|languagesAtWork|currentState|previousState|\n",
            "+----------------+------------------+---------------+------------+-------------+\n",
            "|    James,,Smith|[Java, Scala, C++]|  [Spark, Java]|          OH|           CA|\n",
            "|   Michael,Rose,|[Spark, Java, C++]|  [Spark, Java]|          NY|           NJ|\n",
            "|Robert,,Williams|      [CSharp, VB]|[Spark, Python]|          UT|           NV|\n",
            "+----------------+------------------+---------------+------------+-------------+\n",
            "\n"
          ]
        }
      ],
      "source": [
        "data3 = [\n",
        " (\"James,,Smith\",[\"Java\",\"Scala\",\"C++\"],[\"Spark\",\"Java\"],\"OH\",\"CA\"),\n",
        " (\"Michael,Rose,\",[\"Spark\",\"Java\",\"C++\"],[\"Spark\",\"Java\"],\"NY\",\"NJ\"),\n",
        " (\"Robert,,Williams\",[\"CSharp\",\"VB\"],[\"Spark\",\"Python\"],\"UT\",\"NV\")\n",
        "]\n",
        "\n",
        "arrayschema = StructType([ \n",
        "    StructField(\"name\",StringType(),True), \n",
        "    StructField(\"languagesAtSchool\",ArrayType(StringType()),True), \n",
        "    StructField(\"languagesAtWork\",ArrayType(StringType()),True), \n",
        "    StructField(\"currentState\", StringType(), True), \n",
        "    StructField(\"previousState\", StringType(), True)\n",
        "  ])\n",
        "\n",
        "df3 = spark.createDataFrame(data=data3,schema=arrayschema)\n",
        "df3.printSchema()\n",
        "df3.show()\n"
      ]
    },
    {
      "cell_type": "markdown",
      "id": "5c2f8704",
      "metadata": {
        "id": "5c2f8704"
      },
      "source": [
        "## 8. Creating StructType object struct from DDL String"
      ]
    },
    {
      "cell_type": "code",
      "execution_count": null,
      "id": "504494b5",
      "metadata": {
        "id": "504494b5"
      },
      "outputs": [],
      "source": [
        "ddlSchemaStr = \"'fullName' STRUCT<'first': STRING, 'last': STRING,'middle': STRING>,'age' INT,'gender' STRING\"\n",
        "#ddlSchema = StructType.fromDDL(ddlSchemaStr)\n",
        "#ddlSchema.printTreeString()"
      ]
    },
    {
      "cell_type": "markdown",
      "id": "8921b163",
      "metadata": {
        "id": "8921b163"
      },
      "source": [
        "## 9. Checking if a Column Exists in a DataFrame"
      ]
    },
    {
      "cell_type": "code",
      "execution_count": null,
      "id": "1312b883",
      "metadata": {
        "id": "1312b883",
        "outputId": "7ad5fb81-e67e-40ef-aeff-e52ead2735ec"
      },
      "outputs": [
        {
          "name": "stdout",
          "output_type": "stream",
          "text": [
            "1\n",
            "True\n",
            "False\n",
            "False\n",
            "False\n",
            "False\n",
            "False\n"
          ]
        },
        {
          "data": {
            "text/plain": [
              "[None, None, None, None, None, None]"
            ]
          },
          "execution_count": 85,
          "metadata": {},
          "output_type": "execute_result"
        }
      ],
      "source": [
        "print(salary_df.schema.fieldNames().count(\"firstname\"))\n",
        "#print(salary_df.schema.count(StructField(\"firstname\",StringType,true)))\n",
        "[print(salary_df.schema[i]==StructField(\"firstname\",StringType(),True)) for i in range(len(salary_df.schema.fieldNames()))]"
      ]
    },
    {
      "cell_type": "code",
      "execution_count": 15,
      "id": "41d992fc",
      "metadata": {
        "colab": {
          "base_uri": "https://localhost:8080/"
        },
        "id": "41d992fc",
        "outputId": "774614a1-6c6e-4fd4-8d72-baee9a29436e"
      },
      "outputs": [
        {
          "output_type": "stream",
          "name": "stdout",
          "text": [
            "--2023-06-05 20:00:14--  https://data.cityofchicago.org/api/views/ijzp-q8t2/rows.csv?accessType=DOWNLOAD\n",
            "Resolving data.cityofchicago.org (data.cityofchicago.org)... 52.206.140.205, 52.206.140.199, 52.206.68.26\n",
            "Connecting to data.cityofchicago.org (data.cityofchicago.org)|52.206.140.205|:443... connected.\n",
            "HTTP request sent, awaiting response... 200 OK\n",
            "Length: unspecified [text/csv]\n",
            "Saving to: ‘rows.csv?accessType=DOWNLOAD’\n",
            "\n",
            "rows.csv?accessType     [    <=>             ]   1.72G  3.05MB/s    in 10m 50s \n",
            "\n",
            "2023-06-05 20:11:06 (2.70 MB/s) - ‘rows.csv?accessType=DOWNLOAD’ saved [1844180676]\n",
            "\n"
          ]
        }
      ],
      "source": [
        "!wget https://data.cityofchicago.org/api/views/ijzp-q8t2/rows.csv?accessType=DOWNLOAD"
      ]
    },
    {
      "cell_type": "markdown",
      "source": [
        "## Import external files and read into a dataframe"
      ],
      "metadata": {
        "id": "3jsDlTrDYwV6"
      },
      "id": "3jsDlTrDYwV6"
    },
    {
      "cell_type": "code",
      "source": [
        "!mv rows.csv\\?accessType\\=DOWNLOAD reported=crime.csv"
      ],
      "metadata": {
        "id": "tCB-2jAkJVHg"
      },
      "id": "tCB-2jAkJVHg",
      "execution_count": 17,
      "outputs": []
    },
    {
      "cell_type": "code",
      "source": [
        "from pyspark.sql.functions import to_timestamp, col,lit\n",
        "\n",
        "\n",
        "#spark.read.csv(\"path\") to read a CSV file into Spark DataFrame \n",
        "rc=spark.read.csv('reported\\=crime.csv',header=True).withColumn('Date',to_timestamp(col('Date'),'MM/dd/yyyy hh:mm:ss a'))\n",
        "rc.show(5)"
      ],
      "metadata": {
        "colab": {
          "base_uri": "https://localhost:8080/"
        },
        "id": "oZRfgM_INqyA",
        "outputId": "cb7f6ad8-5eee-4f97-f845-c82fb0c1c9cd"
      },
      "id": "oZRfgM_INqyA",
      "execution_count": 47,
      "outputs": [
        {
          "output_type": "stream",
          "name": "stdout",
          "text": [
            "+--------+-----------+-------------------+--------------------+----+------------+--------------------+--------------------+------+--------+----+--------+----+--------------+--------+------------+------------+----+--------------------+------------+-------------+--------------------+\n",
            "|      ID|Case Number|               Date|               Block|IUCR|Primary Type|         Description|Location Description|Arrest|Domestic|Beat|District|Ward|Community Area|FBI Code|X Coordinate|Y Coordinate|Year|          Updated On|    Latitude|    Longitude|            Location|\n",
            "+--------+-----------+-------------------+--------------------+----+------------+--------------------+--------------------+------+--------+----+--------+----+--------------+--------+------------+------------+----+--------------------+------------+-------------+--------------------+\n",
            "|10224738|   HY411648|2015-09-05 13:30:00|     043XX S WOOD ST|0486|     BATTERY|DOMESTIC BATTERY ...|           RESIDENCE| false|    true|0924|     009|  12|            61|     08B|     1165074|     1875917|2015|02/10/2018 03:50:...|41.815117282|-87.669999562|(41.815117282, -8...|\n",
            "|10224739|   HY411615|2015-09-04 11:30:00| 008XX N CENTRAL AVE|0870|       THEFT|      POCKET-PICKING|             CTA BUS| false|   false|1511|     015|  29|            25|      06|     1138875|     1904869|2015|02/10/2018 03:50:...|41.895080471|-87.765400451|(41.895080471, -8...|\n",
            "|11646166|   JC213529|2018-09-01 00:01:00|082XX S INGLESIDE...|0810|       THEFT|           OVER $500|           RESIDENCE| false|    true|0631|     006|   8|            44|      06|        null|        null|2018|04/06/2019 04:04:...|        null|         null|                null|\n",
            "|10224740|   HY411595|2015-09-05 12:45:00|   035XX W BARRY AVE|2023|   NARCOTICS|POSS: HEROIN(BRN/...|            SIDEWALK|  true|   false|1412|     014|  35|            21|      18|     1152037|     1920384|2015|02/10/2018 03:50:...|41.937405765|-87.716649687|(41.937405765, -8...|\n",
            "|10224741|   HY411610|2015-09-05 13:00:00| 0000X N LARAMIE AVE|0560|     ASSAULT|              SIMPLE|           APARTMENT| false|    true|1522|     015|  28|            25|     08A|     1141706|     1900086|2015|02/10/2018 03:50:...|41.881903443|-87.755121152|(41.881903443, -8...|\n",
            "+--------+-----------+-------------------+--------------------+----+------------+--------------------+--------------------+------+--------+----+--------+----+--------------+--------+------------+------------+----+--------------------+------------+-------------+--------------------+\n",
            "only showing top 5 rows\n",
            "\n"
          ]
        }
      ]
    },
    {
      "cell_type": "markdown",
      "source": [
        "## Working with DataFrane"
      ],
      "metadata": {
        "id": "fcx9ljN8Y9h1"
      },
      "id": "fcx9ljN8Y9h1"
    },
    {
      "cell_type": "code",
      "source": [
        "rc.printSchema()"
      ],
      "metadata": {
        "colab": {
          "base_uri": "https://localhost:8080/"
        },
        "id": "zSeyUHZDYscj",
        "outputId": "297f88a8-5432-42f4-8536-72da48424f49"
      },
      "id": "zSeyUHZDYscj",
      "execution_count": 29,
      "outputs": [
        {
          "output_type": "stream",
          "name": "stdout",
          "text": [
            "root\n",
            " |-- ID: string (nullable = true)\n",
            " |-- Case Number: string (nullable = true)\n",
            " |-- Date: timestamp (nullable = true)\n",
            " |-- Block: string (nullable = true)\n",
            " |-- IUCR: string (nullable = true)\n",
            " |-- Primary Type: string (nullable = true)\n",
            " |-- Description: string (nullable = true)\n",
            " |-- Location Description: string (nullable = true)\n",
            " |-- Arrest: string (nullable = true)\n",
            " |-- Domestic: string (nullable = true)\n",
            " |-- Beat: string (nullable = true)\n",
            " |-- District: string (nullable = true)\n",
            " |-- Ward: string (nullable = true)\n",
            " |-- Community Area: string (nullable = true)\n",
            " |-- FBI Code: string (nullable = true)\n",
            " |-- X Coordinate: string (nullable = true)\n",
            " |-- Y Coordinate: string (nullable = true)\n",
            " |-- Year: string (nullable = true)\n",
            " |-- Updated On: string (nullable = true)\n",
            " |-- Latitude: string (nullable = true)\n",
            " |-- Longitude: string (nullable = true)\n",
            " |-- Location: string (nullable = true)\n",
            "\n"
          ]
        }
      ]
    },
    {
      "cell_type": "code",
      "source": [
        "rc.columns\n"
      ],
      "metadata": {
        "colab": {
          "base_uri": "https://localhost:8080/"
        },
        "id": "MQDsC4pNiheo",
        "outputId": "54b14f69-8243-4b37-985f-0b08680c5fb9"
      },
      "id": "MQDsC4pNiheo",
      "execution_count": 30,
      "outputs": [
        {
          "output_type": "execute_result",
          "data": {
            "text/plain": [
              "['ID',\n",
              " 'Case Number',\n",
              " 'Date',\n",
              " 'Block',\n",
              " 'IUCR',\n",
              " 'Primary Type',\n",
              " 'Description',\n",
              " 'Location Description',\n",
              " 'Arrest',\n",
              " 'Domestic',\n",
              " 'Beat',\n",
              " 'District',\n",
              " 'Ward',\n",
              " 'Community Area',\n",
              " 'FBI Code',\n",
              " 'X Coordinate',\n",
              " 'Y Coordinate',\n",
              " 'Year',\n",
              " 'Updated On',\n",
              " 'Latitude',\n",
              " 'Longitude',\n",
              " 'Location']"
            ]
          },
          "metadata": {},
          "execution_count": 30
        }
      ]
    },
    {
      "cell_type": "code",
      "source": [
        "from pyspark.sql.types import StructType, StructField, StringType, IntegerType, DoubleType, BooleanType, TimestampType"
      ],
      "metadata": {
        "id": "jeR3te89NrLe"
      },
      "id": "jeR3te89NrLe",
      "execution_count": 35,
      "outputs": []
    },
    {
      "cell_type": "code",
      "source": [
        "labels=[('ID', StringType()),\n",
        "  ('Case Number', StringType()),\n",
        "  ('Date', TimestampType()),\n",
        "  ('Block', StringType()),\n",
        "  ('IUCR', StringType()),\n",
        "  ('Primary Type', StringType()),\n",
        "  ('Description', StringType()),\n",
        " ('Location Description', StringType()),\n",
        " ('Arrest', StringType()),\n",
        " ('Domestic', StringType()),\n",
        " ('Beat', StringType()),\n",
        " ('District', StringType()),\n",
        " ('Ward', StringType()),\n",
        " ('Community Area',StringType()),\n",
        " ('FBI Code',StringType()),\n",
        " ('X Coordinate',StringType()),\n",
        " ('Y Coordinate',StringType()),\n",
        " ('Year',StringType()),\n",
        " ('Updated On',TimestampType()),\n",
        " ('Latitude',StringType()),\n",
        " ('Longitude',StringType()),\n",
        " ('Location',StringType())]"
      ],
      "metadata": {
        "id": "39q4L_jHioUn"
      },
      "id": "39q4L_jHioUn",
      "execution_count": 42,
      "outputs": []
    },
    {
      "cell_type": "code",
      "source": [
        "myschema=StructType([StructField(x[0],x[1],True) for x in labels])"
      ],
      "metadata": {
        "id": "ORHJI7snNrUW"
      },
      "id": "ORHJI7snNrUW",
      "execution_count": 43,
      "outputs": []
    },
    {
      "cell_type": "code",
      "source": [
        "myschema"
      ],
      "metadata": {
        "colab": {
          "base_uri": "https://localhost:8080/"
        },
        "id": "uo_h6G-9NrZF",
        "outputId": "e43752e9-64c8-41b8-ecbb-bb98e7d7d7c1"
      },
      "id": "uo_h6G-9NrZF",
      "execution_count": 44,
      "outputs": [
        {
          "output_type": "execute_result",
          "data": {
            "text/plain": [
              "StructType(List(StructField(ID,StringType,true),StructField(Case Number,StringType,true),StructField(Date,TimestampType,true),StructField(Block,StringType,true),StructField(IUCR,StringType,true),StructField(Primary Type,StringType,true),StructField(Description,StringType,true),StructField(Location Description,StringType,true),StructField(Arrest,StringType,true),StructField(Domestic,StringType,true),StructField(Beat,StringType,true),StructField(District,StringType,true),StructField(Ward,StringType,true),StructField(Community Area,StringType,true),StructField(FBI Code,StringType,true),StructField(X Coordinate,StringType,true),StructField(Y Coordinate,StringType,true),StructField(Year,StringType,true),StructField(Updated On,TimestampType,true),StructField(Latitude,StringType,true),StructField(Longitude,StringType,true),StructField(Location,StringType,true)))"
            ]
          },
          "metadata": {},
          "execution_count": 44
        }
      ]
    },
    {
      "cell_type": "code",
      "source": [
        "rc1=spark.read.csv('reported\\=crime.csv',schema=myschema)\n",
        "rc1.printSchema()"
      ],
      "metadata": {
        "colab": {
          "base_uri": "https://localhost:8080/"
        },
        "id": "TTJ_GhU3Nrc7",
        "outputId": "49fda50d-13bc-48ec-fc7d-4ed2b884c7c6"
      },
      "id": "TTJ_GhU3Nrc7",
      "execution_count": 46,
      "outputs": [
        {
          "output_type": "stream",
          "name": "stdout",
          "text": [
            "root\n",
            " |-- ID: string (nullable = true)\n",
            " |-- Case Number: string (nullable = true)\n",
            " |-- Date: timestamp (nullable = true)\n",
            " |-- Block: string (nullable = true)\n",
            " |-- IUCR: string (nullable = true)\n",
            " |-- Primary Type: string (nullable = true)\n",
            " |-- Description: string (nullable = true)\n",
            " |-- Location Description: string (nullable = true)\n",
            " |-- Arrest: string (nullable = true)\n",
            " |-- Domestic: string (nullable = true)\n",
            " |-- Beat: string (nullable = true)\n",
            " |-- District: string (nullable = true)\n",
            " |-- Ward: string (nullable = true)\n",
            " |-- Community Area: string (nullable = true)\n",
            " |-- FBI Code: string (nullable = true)\n",
            " |-- X Coordinate: string (nullable = true)\n",
            " |-- Y Coordinate: string (nullable = true)\n",
            " |-- Year: string (nullable = true)\n",
            " |-- Updated On: timestamp (nullable = true)\n",
            " |-- Latitude: string (nullable = true)\n",
            " |-- Longitude: string (nullable = true)\n",
            " |-- Location: string (nullable = true)\n",
            "\n"
          ]
        }
      ]
    },
    {
      "cell_type": "code",
      "source": [
        "rc1.show(5)"
      ],
      "metadata": {
        "colab": {
          "base_uri": "https://localhost:8080/"
        },
        "id": "CniuD4ghNrh1",
        "outputId": "227466ac-752c-48fc-ae3c-3c097bd5b81f"
      },
      "id": "CniuD4ghNrh1",
      "execution_count": 49,
      "outputs": [
        {
          "output_type": "stream",
          "name": "stdout",
          "text": [
            "+--------+-----------+----+--------------------+----+------------+--------------------+--------------------+------+--------+----+--------+----+--------------+--------+------------+------------+----+----------+------------+-------------+--------------------+\n",
            "|      ID|Case Number|Date|               Block|IUCR|Primary Type|         Description|Location Description|Arrest|Domestic|Beat|District|Ward|Community Area|FBI Code|X Coordinate|Y Coordinate|Year|Updated On|    Latitude|    Longitude|            Location|\n",
            "+--------+-----------+----+--------------------+----+------------+--------------------+--------------------+------+--------+----+--------+----+--------------+--------+------------+------------+----+----------+------------+-------------+--------------------+\n",
            "|      ID|Case Number|null|               Block|IUCR|Primary Type|         Description|Location Description|Arrest|Domestic|Beat|District|Ward|Community Area|FBI Code|X Coordinate|Y Coordinate|Year|      null|    Latitude|    Longitude|            Location|\n",
            "|10224738|   HY411648|null|     043XX S WOOD ST|0486|     BATTERY|DOMESTIC BATTERY ...|           RESIDENCE| false|    true|0924|     009|  12|            61|     08B|     1165074|     1875917|2015|      null|41.815117282|-87.669999562|(41.815117282, -8...|\n",
            "|10224739|   HY411615|null| 008XX N CENTRAL AVE|0870|       THEFT|      POCKET-PICKING|             CTA BUS| false|   false|1511|     015|  29|            25|      06|     1138875|     1904869|2015|      null|41.895080471|-87.765400451|(41.895080471, -8...|\n",
            "|11646166|   JC213529|null|082XX S INGLESIDE...|0810|       THEFT|           OVER $500|           RESIDENCE| false|    true|0631|     006|   8|            44|      06|        null|        null|2018|      null|        null|         null|                null|\n",
            "|10224740|   HY411595|null|   035XX W BARRY AVE|2023|   NARCOTICS|POSS: HEROIN(BRN/...|            SIDEWALK|  true|   false|1412|     014|  35|            21|      18|     1152037|     1920384|2015|      null|41.937405765|-87.716649687|(41.937405765, -8...|\n",
            "+--------+-----------+----+--------------------+----+------------+--------------------+--------------------+------+--------+----+--------+----+--------------+--------+------------+------------+----+----------+------------+-------------+--------------------+\n",
            "only showing top 5 rows\n",
            "\n"
          ]
        }
      ]
    }
  ],
  "metadata": {
    "kernelspec": {
      "display_name": "Python 3 (ipykernel)",
      "language": "python",
      "name": "python3"
    },
    "language_info": {
      "codemirror_mode": {
        "name": "ipython",
        "version": 3
      },
      "file_extension": ".py",
      "mimetype": "text/x-python",
      "name": "python",
      "nbconvert_exporter": "python",
      "pygments_lexer": "ipython3",
      "version": "3.9.16"
    },
    "colab": {
      "provenance": [],
      "include_colab_link": true
    }
  },
  "nbformat": 4,
  "nbformat_minor": 5
}